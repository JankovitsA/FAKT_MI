{
  "nbformat": 4,
  "nbformat_minor": 0,
  "metadata": {
    "colab": {
      "name": "fakt_hazi1.ipynb",
      "provenance": [],
      "collapsed_sections": [],
      "authorship_tag": "ABX9TyO+b60DqfMM20E56+AyXYVt",
      "include_colab_link": true
    },
    "kernelspec": {
      "name": "python3",
      "display_name": "Python 3"
    },
    "language_info": {
      "name": "python"
    }
  },
  "cells": [
    {
      "cell_type": "markdown",
      "metadata": {
        "id": "view-in-github",
        "colab_type": "text"
      },
      "source": [
        "<a href=\"https://colab.research.google.com/github/JankovitsA/FAKT_MI/blob/main/fakt_hazi1.ipynb\" target=\"_parent\"><img src=\"https://colab.research.google.com/assets/colab-badge.svg\" alt=\"Open In Colab\"/></a>"
      ]
    },
    {
      "cell_type": "code",
      "execution_count": 2,
      "metadata": {
        "id": "glfY28BejcFt"
      },
      "outputs": [],
      "source": [
        "#Házi1"
      ]
    },
    {
      "cell_type": "code",
      "source": [
        "#szükséges package-ek beolvasása\n",
        "import numpy as np\n",
        "import matplotlib.pyplot as plt\n",
        "%matplotlib inline #kód alatt jelenjen meg\n",
        "\n",
        "from google.colab import drive\n"
      ],
      "metadata": {
        "id": "1UlgAvm7jzRw"
      },
      "execution_count": null,
      "outputs": []
    },
    {
      "cell_type": "code",
      "source": [
        "('/content/drive/My Drive/progfakt/kepdrive')"
      ],
      "metadata": {
        "id": "nKyk15M4jdTd"
      },
      "execution_count": null,
      "outputs": []
    }
  ]
}