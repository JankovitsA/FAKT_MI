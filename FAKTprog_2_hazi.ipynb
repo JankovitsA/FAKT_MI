{
  "nbformat": 4,
  "nbformat_minor": 0,
  "metadata": {
    "colab": {
      "name": "FAKTprog_2_hazi.ipynb",
      "provenance": [],
      "collapsed_sections": [],
      "authorship_tag": "ABX9TyOyscGEtVb7Pn6k1rHbPx+u",
      "include_colab_link": true
    },
    "kernelspec": {
      "name": "python3",
      "display_name": "Python 3"
    },
    "language_info": {
      "name": "python"
    }
  },
  "cells": [
    {
      "cell_type": "markdown",
      "metadata": {
        "id": "view-in-github",
        "colab_type": "text"
      },
      "source": [
        "<a href=\"https://colab.research.google.com/github/JankovitsA/FAKT_MI/blob/main/FAKTprog_2_hazi.ipynb\" target=\"_parent\"><img src=\"https://colab.research.google.com/assets/colab-badge.svg\" alt=\"Open In Colab\"/></a>"
      ]
    },
    {
      "cell_type": "code",
      "source": [
        "import pandas as pd\n",
        "from sklearn.preprocessing import LabelEncoder #számmá alakít\n",
        "from sklearn.model_selection import train_test_split #tanuló-tesztelő adatbázisok\n",
        "from sklearn.preprocessing import StandardScaler #normalizálás\n",
        "import numpy as np\n",
        "import matplotlib.pyplot as plt\n",
        "%matplotlib inline\n"
      ],
      "metadata": {
        "id": "UEBTBQRVi7Uj"
      },
      "execution_count": null,
      "outputs": []
    },
    {
      "cell_type": "code",
      "execution_count": null,
      "metadata": {
        "colab": {
          "base_uri": "https://localhost:8080/",
          "height": 293
        },
        "id": "eFalGdgjiMKd",
        "outputId": "6dc5d1ae-3f66-4a0b-a1b7-ebc196dedc03"
      },
      "outputs": [
        {
          "output_type": "display_data",
          "data": {
            "image/png": "[encoded data removed]",
            "text/plain": [
              "<Figure size 432x288 with 2 Axes>"
            ]
          },
          "metadata": {
            "needs_background": "light"
          }
        }
      ],
      "source": [
        "##Ábrák kirajzolása (felhasznált: https://matplotlib.org/stable/tutorials/introductory/pyplot.html)\n",
        "\n",
        "\n",
        "x=np.linspace(-10,10)\n",
        "y=1/(1+np.exp(-x))\n",
        "z=(np.exp(x)-np.exp(-x))/(np.exp(x)+np.exp(-x))\n",
        "\n",
        "fig, (ax1, ax2) = plt.subplots(2)\n",
        "fig.suptitle('Aktivációs függvények')\n",
        "\n",
        "\n",
        "ax1.plot(x, y)\n",
        "ax1.set_title(\"sigmoid\")\n",
        "\n",
        "ax2.plot(x, z, 'tab:red')\n",
        "ax2.set_title(\"tangens hiperbolicus\")\n",
        "\n",
        "fig.tight_layout(pad=2)"
      ]
    },
    {
      "cell_type": "code",
      "source": [
        "##Intelligencia (?)\n",
        "#az adatbázis a portugál iskolarendszerről készült, alább a változók a linkre kattintva láthatóak.\n",
        "#Az excelt a gépemen formáztam, gyorsabbnak tűnk, mint átalakítani számmá az egyes i/H értékeket/ betűkombinációkat\n",
        "from google.colab import files\n",
        "uploaded = files.upload()"
      ],
      "metadata": {
        "colab": {
          "base_uri": "https://localhost:8080/",
          "height": 74,
          "resources": {
            "http://localhost:8080/nbextensions/google.colab/files.js": {
              "data": "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",
              "ok": true,
              "headers": [
                [
                  "content-type",
                  "application/javascript"
                ]
              ],
              "status": 200,
              "status_text": ""
            }
          }
        },
        "id": "Z80DRHktiSRJ",
        "outputId": "0edd8380-7b71-4168-d23c-14f0070a4818"
      },
      "execution_count": 153,
      "outputs": [
        {
          "output_type": "display_data",
          "data": {
            "text/html": [
              "\n",
              "     <input type=\"file\" id=\"files-ab915042-4435-40bf-84d3-53b705cdeb0f\" name=\"files[]\" multiple disabled\n",
              "        style=\"border:none\" />\n",
              "     <output id=\"result-ab915042-4435-40bf-84d3-53b705cdeb0f\">\n",
              "      Upload widget is only available when the cell has been executed in the\n",
              "      current browser session. Please rerun this cell to enable.\n",
              "      </output>\n",
              "      <script src=\"/nbextensions/google.colab/files.js\"></script> "
            ],
            "text/plain": [
              "<IPython.core.display.HTML object>"
            ]
          },
          "metadata": {}
        },
        {
          "output_type": "stream",
          "name": "stdout",
          "text": [
            "Saving data2.csv to data2 (1).csv\n"
          ]
        }
      ]
    },
    {
      "cell_type": "code",
      "source": [
        "import io #Köszönöm Flórának az ötletet, majdnem a laptopom bánta, hogy nem tudtam megnyitni semmiképp...\n",
        "data=pd.read_csv(io.BytesIO(uploaded['data2.csv']), sep=\";\")"
      ],
      "metadata": {
        "id": "NSMzaDTR69Or"
      },
      "execution_count": 154,
      "outputs": []
    },
    {
      "cell_type": "code",
      "source": [
        "dataframe.head #https://archive.ics.uci.edu/ml/datasets/student+performance\n",
        "dataframe=data.copy()\n",
        "dataframe=dataframe.drop('G1', axis=1)\n",
        "dataframe=dataframe.drop('G2', axis=1)\n",
        "dataframe=dataframe.drop('reason', axis=1)"
      ],
      "metadata": {
        "id": "iWmWLIYlmuVh"
      },
      "execution_count": 155,
      "outputs": []
    },
    {
      "cell_type": "code",
      "source": [
        "dataframe.shape\n"
      ],
      "metadata": {
        "colab": {
          "base_uri": "https://localhost:8080/"
        },
        "id": "ml9CQwxxKO78",
        "outputId": "34a31d8c-8523-44e9-b042-fa1506575740"
      },
      "execution_count": 156,
      "outputs": [
        {
          "output_type": "execute_result",
          "data": {
            "text/plain": [
              "(395, 30)"
            ]
          },
          "metadata": {},
          "execution_count": 156
        }
      ]
    },
    {
      "cell_type": "code",
      "source": [
        "dataframe.isna().sum() #nincs hiányzó adat"
      ],
      "metadata": {
        "colab": {
          "base_uri": "https://localhost:8080/"
        },
        "id": "MoYcNcg9Fa_N",
        "outputId": "e1f8d48e-0a9a-4760-cc41-d8631afe072f"
      },
      "execution_count": 157,
      "outputs": [
        {
          "output_type": "execute_result",
          "data": {
            "text/plain": [
              "school        0\n",
              "sex           0\n",
              "age           0\n",
              "address       0\n",
              "famsize       0\n",
              "Pstatus       0\n",
              "Medu          0\n",
              "Fedu          0\n",
              "Mjob          0\n",
              "Fjob          0\n",
              "guardian      0\n",
              "traveltime    0\n",
              "studytime     0\n",
              "failures      0\n",
              "schoolsup     0\n",
              "famsup        0\n",
              "paid          0\n",
              "activities    0\n",
              "nursery       0\n",
              "higher        0\n",
              "internet      0\n",
              "romantic      0\n",
              "famrel        0\n",
              "freetime      0\n",
              "goout         0\n",
              "Dalc          0\n",
              "Walc          0\n",
              "health        0\n",
              "absences      0\n",
              "G3            0\n",
              "dtype: int64"
            ]
          },
          "metadata": {},
          "execution_count": 157
        }
      ]
    },
    {
      "cell_type": "code",
      "source": [
        "#szöveg alapú változó számmá alakítása\n",
        "labeler=LabelEncoder()\n",
        "#labeler.fit(dataframe.thal)\n",
        "#data.thal=labeler.transform(data.thal)\n",
        "# dataframe.thal = labeler.fit_transform(...)"
      ],
      "metadata": {
        "id": "QsfyI6u3FcdR"
      },
      "execution_count": 158,
      "outputs": []
    },
    {
      "cell_type": "code",
      "source": [
        ""
      ],
      "metadata": {
        "id": "cr8gKlNFFoxt"
      },
      "execution_count": 132,
      "outputs": []
    },
    {
      "cell_type": "code",
      "source": [
        ""
      ],
      "metadata": {
        "id": "5v33myJHFrHV"
      },
      "execution_count": 122,
      "outputs": []
    },
    {
      "cell_type": "code",
      "source": [
        "y_df=dataframe.G3\n",
        "x_df = dataframe.copy()\n",
        "x_df=x_df.drop('G3', axis = 1)"
      ],
      "metadata": {
        "id": "BUOq2uHKFx2u"
      },
      "execution_count": 159,
      "outputs": []
    },
    {
      "cell_type": "code",
      "source": [
        ""
      ],
      "metadata": {
        "id": "Rz9pI_ndF0n9"
      },
      "execution_count": null,
      "outputs": []
    },
    {
      "cell_type": "code",
      "source": [
        "x_train, x_test, y_train, y_test = train_test_split(x_df,y_df,test_size=0.1,shuffle=True) #shuffle: összekeveri az értékeket"
      ],
      "metadata": {
        "id": "7ItrAqYGF5TT"
      },
      "execution_count": 160,
      "outputs": []
    },
    {
      "cell_type": "code",
      "source": [
        "normalizer=StandardScaler()\n",
        "normalizer.fit(x_train) #y-t nem kell, mert 0 v. 1"
      ],
      "metadata": {
        "colab": {
          "base_uri": "https://localhost:8080/"
        },
        "id": "bfww1wwOF8JF",
        "outputId": "b22d57fd-e8bd-4dc5-c469-db10441eea04"
      },
      "execution_count": 161,
      "outputs": [
        {
          "output_type": "execute_result",
          "data": {
            "text/plain": [
              "StandardScaler()"
            ]
          },
          "metadata": {},
          "execution_count": 161
        }
      ]
    },
    {
      "cell_type": "code",
      "source": [
        "x_train=normalizer.transform(x_train)\n",
        "pd.DataFrame(x_train) #így már dataframe"
      ],
      "metadata": {
        "id": "j3NNqPa5GAbI"
      },
      "execution_count": null,
      "outputs": []
    },
    {
      "cell_type": "code",
      "source": [
        "pd.DataFrame(x_test)"
      ],
      "metadata": {
        "id": "9BC9KkxSGGF1"
      },
      "execution_count": null,
      "outputs": []
    },
    {
      "cell_type": "code",
      "source": [
        "##Architektúra létrehozása\n",
        "from tensorflow.keras.layers import Input, Dense\n",
        "import keras\n",
        "from tensorflow.keras.utils import plot_model\n",
        "from tensorflow.keras.metrics import BinaryAccuracy"
      ],
      "metadata": {
        "id": "mE-aVQZLQCKm"
      },
      "execution_count": 164,
      "outputs": []
    },
    {
      "cell_type": "code",
      "source": [
        "input = Input(shape=(x_train.shape[1]))\n",
        "x = Dense(32, activation='relu')(input)\n",
        "x = Dense(64, activation='relu')(x)\n",
        "output = Dense(1, activation='sigmoid')(x)"
      ],
      "metadata": {
        "id": "cuW80YAwQLv2"
      },
      "execution_count": 165,
      "outputs": []
    },
    {
      "cell_type": "code",
      "source": [
        "model = keras.Model(input, output)\n",
        "plot_model(model, show_shapes=True)"
      ],
      "metadata": {
        "colab": {
          "base_uri": "https://localhost:8080/",
          "height": 422
        },
        "id": "q69xUZeGQVHo",
        "outputId": "d3549723-24bb-446e-cd1b-aa35bad4c8c3"
      },
      "execution_count": 166,
      "outputs": [
        {
          "output_type": "execute_result",
          "data": {
            "image/png": "[encoded data removed]",
            "text/plain": [
              "<IPython.core.display.Image object>"
            ]
          },
          "metadata": {},
          "execution_count": 166
        }
      ]
    },
    {
      "cell_type": "code",
      "source": [
        "model.compile(loss='binary_crossentropy', metrics=[BinaryAccuracy()])\n",
        "model.fit(x=x_train, y=y_train, epochs=100)"
      ],
      "metadata": {
        "colab": {
          "base_uri": "https://localhost:8080/"
        },
        "id": "ieR7Zr3DQeWx",
        "outputId": "58cf5a7b-d12e-4128-9474-a7f77ea5883c"
      },
      "execution_count": 169,
      "outputs": [
        {
          "output_type": "stream",
          "name": "stdout",
          "text": [
            "Epoch 1/100\n",
            "12/12 [==============================] - 1s 3ms/step - loss: -68389.3047 - binary_accuracy: 0.0000e+00\n",
            "Epoch 2/100\n",
            "12/12 [==============================] - 0s 3ms/step - loss: -70977.1016 - binary_accuracy: 0.0000e+00\n",
            "Epoch 3/100\n",
            "12/12 [==============================] - 0s 3ms/step - loss: -72948.8750 - binary_accuracy: 0.0000e+00\n",
            "Epoch 4/100\n",
            "12/12 [==============================] - 0s 2ms/step - loss: -74990.5547 - binary_accuracy: 0.0000e+00\n",
            "Epoch 5/100\n",
            "12/12 [==============================] - 0s 3ms/step - loss: -77075.2812 - binary_accuracy: 0.0000e+00\n",
            "Epoch 6/100\n",
            "12/12 [==============================] - 0s 3ms/step - loss: -79243.8906 - binary_accuracy: 0.0000e+00\n",
            "Epoch 7/100\n",
            "12/12 [==============================] - 0s 2ms/step - loss: -81407.7500 - binary_accuracy: 0.0000e+00\n",
            "Epoch 8/100\n",
            "12/12 [==============================] - 0s 3ms/step - loss: -83633.9297 - binary_accuracy: 0.0000e+00\n",
            "Epoch 9/100\n",
            "12/12 [==============================] - 0s 2ms/step - loss: -85831.4453 - binary_accuracy: 0.0000e+00\n",
            "Epoch 10/100\n",
            "12/12 [==============================] - 0s 2ms/step - loss: -88141.7578 - binary_accuracy: 0.0000e+00\n",
            "Epoch 11/100\n",
            "12/12 [==============================] - 0s 2ms/step - loss: -90260.7500 - binary_accuracy: 0.0000e+00\n",
            "Epoch 12/100\n",
            "12/12 [==============================] - 0s 2ms/step - loss: -92594.7578 - binary_accuracy: 0.0000e+00\n",
            "Epoch 13/100\n",
            "12/12 [==============================] - 0s 2ms/step - loss: -94965.5078 - binary_accuracy: 0.0000e+00\n",
            "Epoch 14/100\n",
            "12/12 [==============================] - 0s 2ms/step - loss: -97364.0469 - binary_accuracy: 0.0000e+00\n",
            "Epoch 15/100\n",
            "12/12 [==============================] - 0s 2ms/step - loss: -99778.0859 - binary_accuracy: 0.0000e+00\n",
            "Epoch 16/100\n",
            "12/12 [==============================] - 0s 3ms/step - loss: -102300.3906 - binary_accuracy: 0.0000e+00\n",
            "Epoch 17/100\n",
            "12/12 [==============================] - 0s 2ms/step - loss: -104983.1797 - binary_accuracy: 0.0000e+00\n",
            "Epoch 18/100\n",
            "12/12 [==============================] - 0s 2ms/step - loss: -107449.4766 - binary_accuracy: 0.0000e+00\n",
            "Epoch 19/100\n",
            "12/12 [==============================] - 0s 2ms/step - loss: -110054.7734 - binary_accuracy: 0.0000e+00\n",
            "Epoch 20/100\n",
            "12/12 [==============================] - 0s 2ms/step - loss: -112738.3906 - binary_accuracy: 0.0000e+00\n",
            "Epoch 21/100\n",
            "12/12 [==============================] - 0s 2ms/step - loss: -115651.6641 - binary_accuracy: 0.0000e+00\n",
            "Epoch 22/100\n",
            "12/12 [==============================] - 0s 2ms/step - loss: -118382.6953 - binary_accuracy: 0.0000e+00\n",
            "Epoch 23/100\n",
            "12/12 [==============================] - 0s 3ms/step - loss: -121194.5781 - binary_accuracy: 0.0000e+00\n",
            "Epoch 24/100\n",
            "12/12 [==============================] - 0s 3ms/step - loss: -124118.3359 - binary_accuracy: 0.0000e+00\n",
            "Epoch 25/100\n",
            "12/12 [==============================] - 0s 2ms/step - loss: -127097.1797 - binary_accuracy: 0.0000e+00\n",
            "Epoch 26/100\n",
            "12/12 [==============================] - 0s 2ms/step - loss: -129951.0000 - binary_accuracy: 0.0000e+00\n",
            "Epoch 27/100\n",
            "12/12 [==============================] - 0s 2ms/step - loss: -132981.9531 - binary_accuracy: 0.0000e+00\n",
            "Epoch 28/100\n",
            "12/12 [==============================] - 0s 3ms/step - loss: -136077.1094 - binary_accuracy: 0.0000e+00\n",
            "Epoch 29/100\n",
            "12/12 [==============================] - 0s 2ms/step - loss: -139137.5781 - binary_accuracy: 0.0000e+00\n",
            "Epoch 30/100\n",
            "12/12 [==============================] - 0s 3ms/step - loss: -142425.6719 - binary_accuracy: 0.0000e+00\n",
            "Epoch 31/100\n",
            "12/12 [==============================] - 0s 2ms/step - loss: -145535.7031 - binary_accuracy: 0.0000e+00\n",
            "Epoch 32/100\n",
            "12/12 [==============================] - 0s 2ms/step - loss: -148594.8125 - binary_accuracy: 0.0000e+00\n",
            "Epoch 33/100\n",
            "12/12 [==============================] - 0s 2ms/step - loss: -151887.2188 - binary_accuracy: 0.0000e+00\n",
            "Epoch 34/100\n",
            "12/12 [==============================] - 0s 3ms/step - loss: -155112.7188 - binary_accuracy: 0.0000e+00\n",
            "Epoch 35/100\n",
            "12/12 [==============================] - 0s 3ms/step - loss: -158566.5312 - binary_accuracy: 0.0000e+00\n",
            "Epoch 36/100\n",
            "12/12 [==============================] - 0s 2ms/step - loss: -162133.6562 - binary_accuracy: 0.0000e+00\n",
            "Epoch 37/100\n",
            "12/12 [==============================] - 0s 2ms/step - loss: -165369.9531 - binary_accuracy: 0.0000e+00\n",
            "Epoch 38/100\n",
            "12/12 [==============================] - 0s 2ms/step - loss: -168811.8281 - binary_accuracy: 0.0000e+00\n",
            "Epoch 39/100\n",
            "12/12 [==============================] - 0s 3ms/step - loss: -172425.5312 - binary_accuracy: 0.0000e+00\n",
            "Epoch 40/100\n",
            "12/12 [==============================] - 0s 3ms/step - loss: -176193.9219 - binary_accuracy: 0.0000e+00\n",
            "Epoch 41/100\n",
            "12/12 [==============================] - 0s 2ms/step - loss: -179941.6719 - binary_accuracy: 0.0000e+00\n",
            "Epoch 42/100\n",
            "12/12 [==============================] - 0s 3ms/step - loss: -183285.1875 - binary_accuracy: 0.0000e+00\n",
            "Epoch 43/100\n",
            "12/12 [==============================] - 0s 3ms/step - loss: -187231.1719 - binary_accuracy: 0.0000e+00\n",
            "Epoch 44/100\n",
            "12/12 [==============================] - 0s 2ms/step - loss: -190844.3750 - binary_accuracy: 0.0000e+00\n",
            "Epoch 45/100\n",
            "12/12 [==============================] - 0s 3ms/step - loss: -194673.3750 - binary_accuracy: 0.0000e+00\n",
            "Epoch 46/100\n",
            "12/12 [==============================] - 0s 2ms/step - loss: -198676.0312 - binary_accuracy: 0.0000e+00\n",
            "Epoch 47/100\n",
            "12/12 [==============================] - 0s 2ms/step - loss: -202722.3594 - binary_accuracy: 0.0000e+00\n",
            "Epoch 48/100\n",
            "12/12 [==============================] - 0s 2ms/step - loss: -206553.3750 - binary_accuracy: 0.0000e+00\n",
            "Epoch 49/100\n",
            "12/12 [==============================] - 0s 3ms/step - loss: -210812.1406 - binary_accuracy: 0.0000e+00\n",
            "Epoch 50/100\n",
            "12/12 [==============================] - 0s 2ms/step - loss: -215007.9375 - binary_accuracy: 0.0000e+00\n",
            "Epoch 51/100\n",
            "12/12 [==============================] - 0s 2ms/step - loss: -219401.7500 - binary_accuracy: 0.0000e+00\n",
            "Epoch 52/100\n",
            "12/12 [==============================] - 0s 2ms/step - loss: -223207.2500 - binary_accuracy: 0.0000e+00\n",
            "Epoch 53/100\n",
            "12/12 [==============================] - 0s 2ms/step - loss: -227574.6875 - binary_accuracy: 0.0000e+00\n",
            "Epoch 54/100\n",
            "12/12 [==============================] - 0s 2ms/step - loss: -231667.8594 - binary_accuracy: 0.0000e+00\n",
            "Epoch 55/100\n",
            "12/12 [==============================] - 0s 2ms/step - loss: -235912.3906 - binary_accuracy: 0.0000e+00\n",
            "Epoch 56/100\n",
            "12/12 [==============================] - 0s 2ms/step - loss: -240371.8750 - binary_accuracy: 0.0000e+00\n",
            "Epoch 57/100\n",
            "12/12 [==============================] - 0s 2ms/step - loss: -244750.1719 - binary_accuracy: 0.0000e+00\n",
            "Epoch 58/100\n",
            "12/12 [==============================] - 0s 3ms/step - loss: -249297.0156 - binary_accuracy: 0.0000e+00\n",
            "Epoch 59/100\n",
            "12/12 [==============================] - 0s 2ms/step - loss: -254265.1719 - binary_accuracy: 0.0000e+00\n",
            "Epoch 60/100\n",
            "12/12 [==============================] - 0s 3ms/step - loss: -258823.9844 - binary_accuracy: 0.0000e+00\n",
            "Epoch 61/100\n",
            "12/12 [==============================] - 0s 2ms/step - loss: -263486.0938 - binary_accuracy: 0.0000e+00\n",
            "Epoch 62/100\n",
            "12/12 [==============================] - 0s 2ms/step - loss: -268271.9688 - binary_accuracy: 0.0000e+00\n",
            "Epoch 63/100\n",
            "12/12 [==============================] - 0s 3ms/step - loss: -272908.4375 - binary_accuracy: 0.0000e+00\n",
            "Epoch 64/100\n",
            "12/12 [==============================] - 0s 3ms/step - loss: -277888.3750 - binary_accuracy: 0.0000e+00\n",
            "Epoch 65/100\n",
            "12/12 [==============================] - 0s 3ms/step - loss: -282832.5625 - binary_accuracy: 0.0000e+00\n",
            "Epoch 66/100\n",
            "12/12 [==============================] - 0s 2ms/step - loss: -287800.5000 - binary_accuracy: 0.0000e+00\n",
            "Epoch 67/100\n",
            "12/12 [==============================] - 0s 3ms/step - loss: -293137.8125 - binary_accuracy: 0.0000e+00\n",
            "Epoch 68/100\n",
            "12/12 [==============================] - 0s 3ms/step - loss: -298081.2812 - binary_accuracy: 0.0000e+00\n",
            "Epoch 69/100\n",
            "12/12 [==============================] - 0s 3ms/step - loss: -303233.4062 - binary_accuracy: 0.0000e+00\n",
            "Epoch 70/100\n",
            "12/12 [==============================] - 0s 3ms/step - loss: -308598.6562 - binary_accuracy: 0.0000e+00\n",
            "Epoch 71/100\n",
            "12/12 [==============================] - 0s 3ms/step - loss: -314062.2812 - binary_accuracy: 0.0000e+00\n",
            "Epoch 72/100\n",
            "12/12 [==============================] - 0s 3ms/step - loss: -319266.0000 - binary_accuracy: 0.0000e+00\n",
            "Epoch 73/100\n",
            "12/12 [==============================] - 0s 3ms/step - loss: -325070.4375 - binary_accuracy: 0.0000e+00\n",
            "Epoch 74/100\n",
            "12/12 [==============================] - 0s 3ms/step - loss: -330660.5625 - binary_accuracy: 0.0000e+00\n",
            "Epoch 75/100\n",
            "12/12 [==============================] - 0s 2ms/step - loss: -336259.0625 - binary_accuracy: 0.0000e+00\n",
            "Epoch 76/100\n",
            "12/12 [==============================] - 0s 3ms/step - loss: -341815.3750 - binary_accuracy: 0.0000e+00\n",
            "Epoch 77/100\n",
            "12/12 [==============================] - 0s 3ms/step - loss: -347464.4375 - binary_accuracy: 0.0000e+00\n",
            "Epoch 78/100\n",
            "12/12 [==============================] - 0s 2ms/step - loss: -353440.3750 - binary_accuracy: 0.0000e+00\n",
            "Epoch 79/100\n",
            "12/12 [==============================] - 0s 3ms/step - loss: -359244.5625 - binary_accuracy: 0.0000e+00\n",
            "Epoch 80/100\n",
            "12/12 [==============================] - 0s 3ms/step - loss: -365319.8438 - binary_accuracy: 0.0000e+00\n",
            "Epoch 81/100\n",
            "12/12 [==============================] - 0s 3ms/step - loss: -371140.0312 - binary_accuracy: 0.0000e+00\n",
            "Epoch 82/100\n",
            "12/12 [==============================] - 0s 3ms/step - loss: -377232.1250 - binary_accuracy: 0.0000e+00\n",
            "Epoch 83/100\n",
            "12/12 [==============================] - 0s 2ms/step - loss: -383668.4688 - binary_accuracy: 0.0000e+00\n",
            "Epoch 84/100\n",
            "12/12 [==============================] - 0s 2ms/step - loss: -389999.9688 - binary_accuracy: 0.0000e+00\n",
            "Epoch 85/100\n",
            "12/12 [==============================] - 0s 2ms/step - loss: -396113.9375 - binary_accuracy: 0.0000e+00\n",
            "Epoch 86/100\n",
            "12/12 [==============================] - 0s 3ms/step - loss: -402111.1562 - binary_accuracy: 0.0000e+00\n",
            "Epoch 87/100\n",
            "12/12 [==============================] - 0s 2ms/step - loss: -408612.1562 - binary_accuracy: 0.0000e+00\n",
            "Epoch 88/100\n",
            "12/12 [==============================] - 0s 2ms/step - loss: -414682.0000 - binary_accuracy: 0.0000e+00\n",
            "Epoch 89/100\n",
            "12/12 [==============================] - 0s 2ms/step - loss: -421457.5625 - binary_accuracy: 0.0000e+00\n",
            "Epoch 90/100\n",
            "12/12 [==============================] - 0s 3ms/step - loss: -427640.5625 - binary_accuracy: 0.0000e+00\n",
            "Epoch 91/100\n",
            "12/12 [==============================] - 0s 3ms/step - loss: -434282.8125 - binary_accuracy: 0.0000e+00\n",
            "Epoch 92/100\n",
            "12/12 [==============================] - 0s 2ms/step - loss: -441094.6562 - binary_accuracy: 0.0000e+00\n",
            "Epoch 93/100\n",
            "12/12 [==============================] - 0s 3ms/step - loss: -447667.5625 - binary_accuracy: 0.0000e+00\n",
            "Epoch 94/100\n",
            "12/12 [==============================] - 0s 3ms/step - loss: -454674.5312 - binary_accuracy: 0.0000e+00\n",
            "Epoch 95/100\n",
            "12/12 [==============================] - 0s 2ms/step - loss: -461793.5000 - binary_accuracy: 0.0000e+00\n",
            "Epoch 96/100\n",
            "12/12 [==============================] - 0s 2ms/step - loss: -468998.8125 - binary_accuracy: 0.0000e+00\n",
            "Epoch 97/100\n",
            "12/12 [==============================] - 0s 3ms/step - loss: -475957.6875 - binary_accuracy: 0.0000e+00\n",
            "Epoch 98/100\n",
            "12/12 [==============================] - 0s 3ms/step - loss: -482918.8438 - binary_accuracy: 0.0000e+00\n",
            "Epoch 99/100\n",
            "12/12 [==============================] - 0s 2ms/step - loss: -489935.7188 - binary_accuracy: 0.0000e+00\n",
            "Epoch 100/100\n",
            "12/12 [==============================] - 0s 3ms/step - loss: -497481.4688 - binary_accuracy: 0.0000e+00\n"
          ]
        },
        {
          "output_type": "execute_result",
          "data": {
            "text/plain": [
              "<keras.callbacks.History at 0x7f5b806d2a10>"
            ]
          },
          "metadata": {},
          "execution_count": 169
        }
      ]
    },
    {
      "cell_type": "code",
      "source": [
        "#ellenőrzés\n",
        "model.evaluate(x=x_test, y=y_test)"
      ],
      "metadata": {
        "colab": {
          "base_uri": "https://localhost:8080/"
        },
        "id": "_U48TtD2QzVB",
        "outputId": "25a4080f-6510-4732-d09d-ebed8f6231c1"
      },
      "execution_count": 168,
      "outputs": [
        {
          "output_type": "stream",
          "name": "stdout",
          "text": [
            "2/2 [==============================] - 0s 12ms/step - loss: -51662.7266 - binary_accuracy: 0.0000e+00\n"
          ]
        },
        {
          "output_type": "execute_result",
          "data": {
            "text/plain": [
              "[-51662.7265625, 0.0]"
            ]
          },
          "metadata": {},
          "execution_count": 168
        }
      ]
    }
  ]
}