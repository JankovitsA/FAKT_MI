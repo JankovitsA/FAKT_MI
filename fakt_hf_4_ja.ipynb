{
  "nbformat": 4,
  "nbformat_minor": 0,
  "metadata": {
    "colab": {
      "name": "fakt_hf_4_ja",
      "provenance": [],
      "collapsed_sections": [],
      "authorship_tag": "ABX9TyOiH+NOFfO+I9PUZyxBpuyN",
      "include_colab_link": true
    },
    "kernelspec": {
      "name": "python3",
      "display_name": "Python 3"
    },
    "language_info": {
      "name": "python"
    }
  },
  "cells": [
    {
      "cell_type": "markdown",
      "metadata": {
        "id": "view-in-github",
        "colab_type": "text"
      },
      "source": [
        "<a href=\"https://colab.research.google.com/github/JankovitsA/FAKT_MI/blob/main/fakt_hf_4_ja.ipynb\" target=\"_parent\"><img src=\"https://colab.research.google.com/assets/colab-badge.svg\" alt=\"Open In Colab\"/></a>"
      ]
    },
    {
      "cell_type": "code",
      "execution_count": 1,
      "metadata": {
        "id": "JpPj9lFnahh3"
      },
      "outputs": [],
      "source": [
        "#Részvény prediktálás"
      ]
    },
    {
      "cell_type": "code",
      "source": [
        "import pandas as pd\n",
        "from google.colab import drive\n",
        "import numpy as np\n",
        "from sklearn.preprocessing import LabelEncoder, StandardScaler\n",
        "from sklearn.model_selection import train_test_split"
      ],
      "metadata": {
        "id": "glSwYAgOapls"
      },
      "execution_count": 2,
      "outputs": []
    },
    {
      "cell_type": "code",
      "source": [
        "drive.mount('/content/drive')\n",
        "otp = pd.read_csv('/content/drive/My Drive/progfakt/otp.csv')"
      ],
      "metadata": {
        "colab": {
          "base_uri": "https://localhost:8080/"
        },
        "id": "jVteQWlUas2e",
        "outputId": "30beaf9e-b8b3-40ab-c546-89e20a328d9b"
      },
      "execution_count": 4,
      "outputs": [
        {
          "output_type": "stream",
          "name": "stdout",
          "text": [
            "Drive already mounted at /content/drive; to attempt to forcibly remount, call drive.mount(\"/content/drive\", force_remount=True).\n"
          ]
        }
      ]
    },
    {
      "cell_type": "code",
      "source": [
        "otp.head()"
      ],
      "metadata": {
        "colab": {
          "base_uri": "https://localhost:8080/",
          "height": 206
        },
        "id": "qAM8V60Ibsnc",
        "outputId": "c429a1da-dd16-429a-ff44-f0e36513c7aa"
      },
      "execution_count": 5,
      "outputs": [
        {
          "output_type": "execute_result",
          "data": {
            "text/plain": [
              "   Név        Dátum  Utolsó ár  Mennyiség\n",
              "0  OTP  2020.02.12.    14660.0   356596.0\n",
              "1  OTP  2020.02.13.    14990.0   343220.0\n",
              "2  OTP  2020.02.14.    15150.0   546600.0\n",
              "3  OTP  2020.02.17.    15250.0   119497.0\n",
              "4  OTP  2020.02.18.    15250.0   275739.0"
            ],
            "text/html": [
              "\n",
              "  <div id=\"df-16c2c326-0818-46ad-9c48-88e473f126f0\">\n",
              "    <div class=\"colab-df-container\">\n",
              "      <div>\n",
              "<style scoped>\n",
              "    .dataframe tbody tr th:only-of-type {\n",
              "        vertical-align: middle;\n",
              "    }\n",
              "\n",
              "    .dataframe tbody tr th {\n",
              "        vertical-align: top;\n",
              "    }\n",
              "\n",
              "    .dataframe thead th {\n",
              "        text-align: right;\n",
              "    }\n",
              "</style>\n",
              "<table border=\"1\" class=\"dataframe\">\n",
              "  <thead>\n",
              "    <tr style=\"text-align: right;\">\n",
              "      <th></th>\n",
              "      <th>Név</th>\n",
              "      <th>Dátum</th>\n",
              "      <th>Utolsó ár</th>\n",
              "      <th>Mennyiség</th>\n",
              "    </tr>\n",
              "  </thead>\n",
              "  <tbody>\n",
              "    <tr>\n",
              "      <th>0</th>\n",
              "      <td>OTP</td>\n",
              "      <td>2020.02.12.</td>\n",
              "      <td>14660.0</td>\n",
              "      <td>356596.0</td>\n",
              "    </tr>\n",
              "    <tr>\n",
              "      <th>1</th>\n",
              "      <td>OTP</td>\n",
              "      <td>2020.02.13.</td>\n",
              "      <td>14990.0</td>\n",
              "      <td>343220.0</td>\n",
              "    </tr>\n",
              "    <tr>\n",
              "      <th>2</th>\n",
              "      <td>OTP</td>\n",
              "      <td>2020.02.14.</td>\n",
              "      <td>15150.0</td>\n",
              "      <td>546600.0</td>\n",
              "    </tr>\n",
              "    <tr>\n",
              "      <th>3</th>\n",
              "      <td>OTP</td>\n",
              "      <td>2020.02.17.</td>\n",
              "      <td>15250.0</td>\n",
              "      <td>119497.0</td>\n",
              "    </tr>\n",
              "    <tr>\n",
              "      <th>4</th>\n",
              "      <td>OTP</td>\n",
              "      <td>2020.02.18.</td>\n",
              "      <td>15250.0</td>\n",
              "      <td>275739.0</td>\n",
              "    </tr>\n",
              "  </tbody>\n",
              "</table>\n",
              "</div>\n",
              "      <button class=\"colab-df-convert\" onclick=\"convertToInteractive('df-16c2c326-0818-46ad-9c48-88e473f126f0')\"\n",
              "              title=\"Convert this dataframe to an interactive table.\"\n",
              "              style=\"display:none;\">\n",
              "        \n",
              "  <svg xmlns=\"http://www.w3.org/2000/svg\" height=\"24px\"viewBox=\"0 0 24 24\"\n",
              "       width=\"24px\">\n",
              "    <path d=\"M0 0h24v24H0V0z\" fill=\"none\"/>\n",
              "    <path d=\"M18.56 5.44l.94 2.06.94-2.06 2.06-.94-2.06-.94-.94-2.06-.94 2.06-2.06.94zm-11 1L8.5 8.5l.94-2.06 2.06-.94-2.06-.94L8.5 2.5l-.94 2.06-2.06.94zm10 10l.94 2.06.94-2.06 2.06-.94-2.06-.94-.94-2.06-.94 2.06-2.06.94z\"/><path d=\"M17.41 7.96l-1.37-1.37c-.4-.4-.92-.59-1.43-.59-.52 0-1.04.2-1.43.59L10.3 9.45l-7.72 7.72c-.78.78-.78 2.05 0 2.83L4 21.41c.39.39.9.59 1.41.59.51 0 1.02-.2 1.41-.59l7.78-7.78 2.81-2.81c.8-.78.8-2.07 0-2.86zM5.41 20L4 18.59l7.72-7.72 1.47 1.35L5.41 20z\"/>\n",
              "  </svg>\n",
              "      </button>\n",
              "      \n",
              "  <style>\n",
              "    .colab-df-container {\n",
              "      display:flex;\n",
              "      flex-wrap:wrap;\n",
              "      gap: 12px;\n",
              "    }\n",
              "\n",
              "    .colab-df-convert {\n",
              "      background-color: #E8F0FE;\n",
              "      border: none;\n",
              "      border-radius: 50%;\n",
              "      cursor: pointer;\n",
              "      display: none;\n",
              "      fill: #1967D2;\n",
              "      height: 32px;\n",
              "      padding: 0 0 0 0;\n",
              "      width: 32px;\n",
              "    }\n",
              "\n",
              "    .colab-df-convert:hover {\n",
              "      background-color: #E2EBFA;\n",
              "      box-shadow: 0px 1px 2px rgba(60, 64, 67, 0.3), 0px 1px 3px 1px rgba(60, 64, 67, 0.15);\n",
              "      fill: #174EA6;\n",
              "    }\n",
              "\n",
              "    [theme=dark] .colab-df-convert {\n",
              "      background-color: #3B4455;\n",
              "      fill: #D2E3FC;\n",
              "    }\n",
              "\n",
              "    [theme=dark] .colab-df-convert:hover {\n",
              "      background-color: #434B5C;\n",
              "      box-shadow: 0px 1px 3px 1px rgba(0, 0, 0, 0.15);\n",
              "      filter: drop-shadow(0px 1px 2px rgba(0, 0, 0, 0.3));\n",
              "      fill: #FFFFFF;\n",
              "    }\n",
              "  </style>\n",
              "\n",
              "      <script>\n",
              "        const buttonEl =\n",
              "          document.querySelector('#df-16c2c326-0818-46ad-9c48-88e473f126f0 button.colab-df-convert');\n",
              "        buttonEl.style.display =\n",
              "          google.colab.kernel.accessAllowed ? 'block' : 'none';\n",
              "\n",
              "        async function convertToInteractive(key) {\n",
              "          const element = document.querySelector('#df-16c2c326-0818-46ad-9c48-88e473f126f0');\n",
              "          const dataTable =\n",
              "            await google.colab.kernel.invokeFunction('convertToInteractive',\n",
              "                                                     [key], {});\n",
              "          if (!dataTable) return;\n",
              "\n",
              "          const docLinkHtml = 'Like what you see? Visit the ' +\n",
              "            '<a target=\"_blank\" href=https://colab.research.google.com/notebooks/data_table.ipynb>data table notebook</a>'\n",
              "            + ' to learn more about interactive tables.';\n",
              "          element.innerHTML = '';\n",
              "          dataTable['output_type'] = 'display_data';\n",
              "          await google.colab.output.renderOutput(dataTable, element);\n",
              "          const docLink = document.createElement('div');\n",
              "          docLink.innerHTML = docLinkHtml;\n",
              "          element.appendChild(docLink);\n",
              "        }\n",
              "      </script>\n",
              "    </div>\n",
              "  </div>\n",
              "  "
            ]
          },
          "metadata": {},
          "execution_count": 5
        }
      ]
    },
    {
      "cell_type": "code",
      "source": [
        "#Az utolsó árat fogom az előzőből (mennyiséggel együtt) prediktálni, ha minden igaz"
      ],
      "metadata": {
        "id": "ynVbrxlpbuBQ"
      },
      "execution_count": 12,
      "outputs": []
    },
    {
      "cell_type": "code",
      "source": [
        "otp2=otp.copy()\n",
        "otp2=otp2['Utolsó ár']\n",
        "otp2.head()"
      ],
      "metadata": {
        "colab": {
          "base_uri": "https://localhost:8080/"
        },
        "id": "n5zYfDg4e1N9",
        "outputId": "3e7da732-deee-4efa-d404-9961c8737384"
      },
      "execution_count": 15,
      "outputs": [
        {
          "output_type": "execute_result",
          "data": {
            "text/plain": [
              "0    14660.0\n",
              "1    14990.0\n",
              "2    15150.0\n",
              "3    15250.0\n",
              "4    15250.0\n",
              "Name: Utolsó ár, dtype: float64"
            ]
          },
          "metadata": {},
          "execution_count": 15
        }
      ]
    },
    {
      "cell_type": "code",
      "source": [
        "def split_sequence(sequence, n_steps):\n",
        "\tx, y = list(), list()\n",
        "\tfor i in range(len(sequence)):\n",
        "\t\tend_ix = i + n_steps # Az adott szekvencia-darab utolsó eleme\n",
        "\t\tif end_ix > len(sequence)-1: # Ellenőrizzük nem értünk-e a teljes lista végére\n",
        "\t\t\tbreak\n",
        "\t\tseq_x, seq_y = sequence[i:end_ix], sequence[end_ix] # Kimentjük a szekvencia darabot és az utolsó elemet mint eredményváltozó\n",
        "\t\tx.append(seq_x)\n",
        "\t\ty.append(seq_y)\n",
        "\treturn np.array(x), np.array(y)"
      ],
      "metadata": {
        "id": "0Ube-nTJb1ix"
      },
      "execution_count": 16,
      "outputs": []
    },
    {
      "cell_type": "code",
      "source": [
        "x, y = split_sequence(otp2, 10)"
      ],
      "metadata": {
        "id": "qrNNlJVVegVg"
      },
      "execution_count": 17,
      "outputs": []
    },
    {
      "cell_type": "code",
      "source": [
        "#ellenőrzés\n",
        "for i in range(len(x)): # Kiprintelem a jobb értelmezhetőségért\n",
        "\tprint(x[i], y[i])"
      ],
      "metadata": {
        "id": "xq6nt6djeg3O"
      },
      "execution_count": null,
      "outputs": []
    },
    {
      "cell_type": "code",
      "source": [
        "x_train, x_test, y_train, y_test = train_test_split(x, y, test_size=0.2, shuffle=True)"
      ],
      "metadata": {
        "id": "EZwUwFwhfPAv"
      },
      "execution_count": 19,
      "outputs": []
    },
    {
      "cell_type": "code",
      "source": [
        "#normalizálás\n",
        "normalizer = StandardScaler()\n",
        "normalizer.fit(x_train)\n",
        "x_train = normalizer.transform(x_train)\n",
        "x_test = normalizer.transform(x_test)"
      ],
      "metadata": {
        "id": "p5EAAu_dfYnh"
      },
      "execution_count": 20,
      "outputs": []
    },
    {
      "cell_type": "code",
      "source": [
        "from tensorflow.keras.layers import Conv2D, Input, MaxPooling2D, Flatten, Dense, Dropout, Conv1D, MaxPooling1D, AveragePooling1D\n",
        "import keras\n",
        "from tensorflow.keras.callbacks import EarlyStopping, TensorBoard"
      ],
      "metadata": {
        "id": "hCm4tYn-fcrf"
      },
      "execution_count": 21,
      "outputs": []
    },
    {
      "cell_type": "code",
      "source": [
        "input = Input(shape=(10,1)) #jobb híján az Alexhez hasonlóan csináltam, még utána kell olvasnom...\n",
        "\n",
        "x = Conv1D(filters=64, kernel_size=3, strides=1, activation='relu')(input)\n",
        "x = MaxPooling1D(pool_size=2, strides=1)(x)\n",
        "x = Conv1D(filters=256, kernel_size=2, activation='relu', strides=1)(x) #padding='same'\n",
        "x = MaxPooling1D(pool_size=2, strides=1)(x)\n",
        "x = Conv1D(filters=384, kernel_size=2, activation='relu', strides=1)(x) #padding='same'\n",
        "x = Conv1D(filters=384, kernel_size=2, activation='relu', strides=1)(x)\n",
        "x = Conv1D(filters=192, kernel_size=2, activation='relu', strides=1)(x)\n",
        "x = MaxPooling1D(pool_size=2, strides=1)(x)\n",
        "\n",
        "\n",
        "\n",
        "x = Flatten()(x)\n",
        "\n",
        "x = Dense(4096, activation='relu')(x)\n",
        "x = Dropout(0.2)(x)\n",
        "x = Dense(4096, activation='relu')(x)\n",
        "x = Dropout(0.4)(x)\n",
        "\n",
        "output = Dense(1, activation='softmax')(x)"
      ],
      "metadata": {
        "id": "A0ScxHHdfgdt"
      },
      "execution_count": 33,
      "outputs": []
    },
    {
      "cell_type": "code",
      "source": [
        "model = keras.Model(input, output)\n",
        "model.compile(optimizer='adam',\n",
        "    loss='MSE')"
      ],
      "metadata": {
        "id": "1sgmKKWxg4lx"
      },
      "execution_count": 34,
      "outputs": []
    },
    {
      "cell_type": "code",
      "source": [
        "AlexNet = keras.Model(input, output)\n",
        "early_stopping_callback = EarlyStopping(patience=5, restore_best_weights=True)\n",
        "tensorboard_callback = TensorBoard('logs/run1')"
      ],
      "metadata": {
        "id": "B9t3ZIHnhbmU"
      },
      "execution_count": 35,
      "outputs": []
    },
    {
      "cell_type": "code",
      "source": [
        "AlexNet.compile('adam', loss='categorical_crossentropy', metrics=['accuracy'])"
      ],
      "metadata": {
        "id": "tvVKJp4Hhn9-"
      },
      "execution_count": 36,
      "outputs": []
    },
    {
      "cell_type": "code",
      "source": [
        "AlexNet.fit(x_train, y_train, epochs=100, validation_split=0.1,callbacks=[early_stopping_callback, tensorboard_callback]) #nem igazán látszik működni"
      ],
      "metadata": {
        "colab": {
          "base_uri": "https://localhost:8080/"
        },
        "id": "8HqoeqtmhryV",
        "outputId": "09d0dac0-c81a-43e6-abef-4e967631733f"
      },
      "execution_count": 37,
      "outputs": [
        {
          "output_type": "stream",
          "name": "stdout",
          "text": [
            "Epoch 1/100\n",
            "12/12 [==============================] - 8s 513ms/step - loss: 0.0000e+00 - accuracy: 0.0000e+00 - val_loss: nan - val_accuracy: 0.0000e+00\n",
            "Epoch 2/100\n",
            "12/12 [==============================] - 4s 303ms/step - loss: 0.0000e+00 - accuracy: 0.0000e+00 - val_loss: nan - val_accuracy: 0.0000e+00\n",
            "Epoch 3/100\n",
            "12/12 [==============================] - 4s 357ms/step - loss: 0.0000e+00 - accuracy: 0.0000e+00 - val_loss: nan - val_accuracy: 0.0000e+00\n",
            "Epoch 4/100\n",
            "12/12 [==============================] - 4s 326ms/step - loss: 0.0000e+00 - accuracy: 0.0000e+00 - val_loss: nan - val_accuracy: 0.0000e+00\n",
            "Epoch 5/100\n",
            "12/12 [==============================] - 5s 453ms/step - loss: 0.0000e+00 - accuracy: 0.0000e+00 - val_loss: nan - val_accuracy: 0.0000e+00\n"
          ]
        },
        {
          "output_type": "execute_result",
          "data": {
            "text/plain": [
              "<keras.callbacks.History at 0x7f4f67f55c10>"
            ]
          },
          "metadata": {},
          "execution_count": 37
        }
      ]
    },
    {
      "cell_type": "code",
      "source": [
        "AlexNet.predict(x_test)\n",
        "AlexNet.evaluate(x_test, y_test)"
      ],
      "metadata": {
        "id": "kDEtjV0ihu7i"
      },
      "execution_count": null,
      "outputs": []
    },
    {
      "cell_type": "code",
      "source": [
        ""
      ],
      "metadata": {
        "id": "znmdxKb0h4Wz"
      },
      "execution_count": null,
      "outputs": []
    }
  ]
}