{
  "nbformat": 4,
  "nbformat_minor": 0,
  "metadata": {
    "colab": {
      "name": "faktprog_hf3.ipynb",
      "provenance": [],
      "authorship_tag": "ABX9TyNJ1dFgVt5rh/eKnxFiCe9A",
      "include_colab_link": true
    },
    "kernelspec": {
      "name": "python3",
      "display_name": "Python 3"
    },
    "language_info": {
      "name": "python"
    }
  },
  "cells": [
    {
      "cell_type": "markdown",
      "metadata": {
        "id": "view-in-github",
        "colab_type": "text"
      },
      "source": [
        "<a href=\"https://colab.research.google.com/github/JankovitsA/FAKT_MI/blob/main/faktprog_hf3.ipynb\" target=\"_parent\"><img src=\"https://colab.research.google.com/assets/colab-badge.svg\" alt=\"Open In Colab\"/></a>"
      ]
    },
    {
      "cell_type": "code",
      "execution_count": 2,
      "metadata": {
        "id": "NF98RNpTfXOT"
      },
      "outputs": [],
      "source": [
        "import numpy as np\n",
        "import pandas as pd\n",
        "from tensorflow import keras\n",
        "from sklearn.preprocessing import LabelEncoder, StandardScaler\n",
        "from sklearn.model_selection import train_test_split\n",
        "\n"
      ]
    },
    {
      "cell_type": "code",
      "source": [
        "from google.colab import drive\n",
        "drive.mount('/content/drive')\n"
      ],
      "metadata": {
        "colab": {
          "base_uri": "https://localhost:8080/"
        },
        "id": "r16Eca2LfoNE",
        "outputId": "630222fb-8b34-46b4-8d33-adc77966cdfb"
      },
      "execution_count": 4,
      "outputs": [
        {
          "output_type": "stream",
          "name": "stdout",
          "text": [
            "Mounted at /content/drive\n"
          ]
        }
      ]
    },
    {
      "cell_type": "code",
      "source": [
        "ho = pd.read_csv('/content/drive/My Drive/progfakt/sample_data/yearly_monthly_averages.csv') #Szülővárosom, Pécs adatait kértem le, mert szívemnek igencsak kedves\n",
        "nap=pd.read_csv('/content/drive/My Drive/progfakt/sample_data/weather_data_24hr.csv')\n",
        "ora=pd.read_csv('/content/drive/My Drive/progfakt/sample_data/weather_data_1hr.csv')\n"
      ],
      "metadata": {
        "id": "eDnB3mS1EcHZ"
      },
      "execution_count": 6,
      "outputs": []
    },
    {
      "cell_type": "code",
      "source": [
        "#ho.head()\n",
        "#nap.head()\n",
        "ora.head()"
      ],
      "metadata": {
        "colab": {
          "base_uri": "https://localhost:8080/",
          "height": 386
        },
        "id": "bMRDT2nEgJDR",
        "outputId": "1d404ddb-1a54-4807-f78c-0e650e3f0e95"
      },
      "execution_count": 24,
      "outputs": [
        {
          "output_type": "execute_result",
          "data": {
            "text/html": [
              "\n",
              "  <div id=\"df-215fb22f-d055-4974-817f-39e67da63a18\">\n",
              "    <div class=\"colab-df-container\">\n",
              "      <div>\n",
              "<style scoped>\n",
              "    .dataframe tbody tr th:only-of-type {\n",
              "        vertical-align: middle;\n",
              "    }\n",
              "\n",
              "    .dataframe tbody tr th {\n",
              "        vertical-align: top;\n",
              "    }\n",
              "\n",
              "    .dataframe thead th {\n",
              "        text-align: right;\n",
              "    }\n",
              "</style>\n",
              "<table border=\"1\" class=\"dataframe\">\n",
              "  <thead>\n",
              "    <tr style=\"text-align: right;\">\n",
              "      <th></th>\n",
              "      <th>loc_id</th>\n",
              "      <th>date</th>\n",
              "      <th>time</th>\n",
              "      <th>isdaytime</th>\n",
              "      <th>tempC</th>\n",
              "      <th>tempF</th>\n",
              "      <th>windspeedMiles</th>\n",
              "      <th>windspeedKmph</th>\n",
              "      <th>winddirdegree</th>\n",
              "      <th>winddir16point</th>\n",
              "      <th>...</th>\n",
              "      <th>HeatIndexC</th>\n",
              "      <th>HeatIndexF</th>\n",
              "      <th>DewPointC</th>\n",
              "      <th>DewPointF</th>\n",
              "      <th>WindChillC</th>\n",
              "      <th>WindChillF</th>\n",
              "      <th>WindGustMiles</th>\n",
              "      <th>WindGustKmph</th>\n",
              "      <th>FeelsLikeC</th>\n",
              "      <th>FeelsLikeF</th>\n",
              "    </tr>\n",
              "  </thead>\n",
              "  <tbody>\n",
              "    <tr>\n",
              "      <th>0</th>\n",
              "      <td>1</td>\n",
              "      <td>2019-06-01</td>\n",
              "      <td>0</td>\n",
              "      <td>no</td>\n",
              "      <td>16</td>\n",
              "      <td>61</td>\n",
              "      <td>6</td>\n",
              "      <td>10</td>\n",
              "      <td>228</td>\n",
              "      <td>SW</td>\n",
              "      <td>...</td>\n",
              "      <td>16</td>\n",
              "      <td>61</td>\n",
              "      <td>12</td>\n",
              "      <td>54</td>\n",
              "      <td>16</td>\n",
              "      <td>61</td>\n",
              "      <td>7</td>\n",
              "      <td>12</td>\n",
              "      <td>16</td>\n",
              "      <td>61</td>\n",
              "    </tr>\n",
              "    <tr>\n",
              "      <th>1</th>\n",
              "      <td>1</td>\n",
              "      <td>2019-06-01</td>\n",
              "      <td>100</td>\n",
              "      <td>no</td>\n",
              "      <td>16</td>\n",
              "      <td>60</td>\n",
              "      <td>6</td>\n",
              "      <td>9</td>\n",
              "      <td>230</td>\n",
              "      <td>SW</td>\n",
              "      <td>...</td>\n",
              "      <td>16</td>\n",
              "      <td>60</td>\n",
              "      <td>12</td>\n",
              "      <td>53</td>\n",
              "      <td>16</td>\n",
              "      <td>60</td>\n",
              "      <td>7</td>\n",
              "      <td>11</td>\n",
              "      <td>16</td>\n",
              "      <td>60</td>\n",
              "    </tr>\n",
              "    <tr>\n",
              "      <th>2</th>\n",
              "      <td>1</td>\n",
              "      <td>2019-06-01</td>\n",
              "      <td>200</td>\n",
              "      <td>no</td>\n",
              "      <td>15</td>\n",
              "      <td>59</td>\n",
              "      <td>5</td>\n",
              "      <td>9</td>\n",
              "      <td>233</td>\n",
              "      <td>SW</td>\n",
              "      <td>...</td>\n",
              "      <td>15</td>\n",
              "      <td>59</td>\n",
              "      <td>11</td>\n",
              "      <td>53</td>\n",
              "      <td>15</td>\n",
              "      <td>59</td>\n",
              "      <td>6</td>\n",
              "      <td>10</td>\n",
              "      <td>15</td>\n",
              "      <td>59</td>\n",
              "    </tr>\n",
              "    <tr>\n",
              "      <th>3</th>\n",
              "      <td>1</td>\n",
              "      <td>2019-06-01</td>\n",
              "      <td>300</td>\n",
              "      <td>no</td>\n",
              "      <td>15</td>\n",
              "      <td>58</td>\n",
              "      <td>5</td>\n",
              "      <td>8</td>\n",
              "      <td>235</td>\n",
              "      <td>SW</td>\n",
              "      <td>...</td>\n",
              "      <td>15</td>\n",
              "      <td>58</td>\n",
              "      <td>11</td>\n",
              "      <td>52</td>\n",
              "      <td>14</td>\n",
              "      <td>58</td>\n",
              "      <td>6</td>\n",
              "      <td>9</td>\n",
              "      <td>14</td>\n",
              "      <td>58</td>\n",
              "    </tr>\n",
              "    <tr>\n",
              "      <th>4</th>\n",
              "      <td>1</td>\n",
              "      <td>2019-06-01</td>\n",
              "      <td>400</td>\n",
              "      <td>no</td>\n",
              "      <td>15</td>\n",
              "      <td>59</td>\n",
              "      <td>4</td>\n",
              "      <td>7</td>\n",
              "      <td>229</td>\n",
              "      <td>SW</td>\n",
              "      <td>...</td>\n",
              "      <td>15</td>\n",
              "      <td>59</td>\n",
              "      <td>11</td>\n",
              "      <td>52</td>\n",
              "      <td>15</td>\n",
              "      <td>59</td>\n",
              "      <td>5</td>\n",
              "      <td>8</td>\n",
              "      <td>15</td>\n",
              "      <td>59</td>\n",
              "    </tr>\n",
              "  </tbody>\n",
              "</table>\n",
              "<p>5 rows × 31 columns</p>\n",
              "</div>\n",
              "      <button class=\"colab-df-convert\" onclick=\"convertToInteractive('df-215fb22f-d055-4974-817f-39e67da63a18')\"\n",
              "              title=\"Convert this dataframe to an interactive table.\"\n",
              "              style=\"display:none;\">\n",
              "        \n",
              "  <svg xmlns=\"http://www.w3.org/2000/svg\" height=\"24px\"viewBox=\"0 0 24 24\"\n",
              "       width=\"24px\">\n",
              "    <path d=\"M0 0h24v24H0V0z\" fill=\"none\"/>\n",
              "    <path d=\"M18.56 5.44l.94 2.06.94-2.06 2.06-.94-2.06-.94-.94-2.06-.94 2.06-2.06.94zm-11 1L8.5 8.5l.94-2.06 2.06-.94-2.06-.94L8.5 2.5l-.94 2.06-2.06.94zm10 10l.94 2.06.94-2.06 2.06-.94-2.06-.94-.94-2.06-.94 2.06-2.06.94z\"/><path d=\"M17.41 7.96l-1.37-1.37c-.4-.4-.92-.59-1.43-.59-.52 0-1.04.2-1.43.59L10.3 9.45l-7.72 7.72c-.78.78-.78 2.05 0 2.83L4 21.41c.39.39.9.59 1.41.59.51 0 1.02-.2 1.41-.59l7.78-7.78 2.81-2.81c.8-.78.8-2.07 0-2.86zM5.41 20L4 18.59l7.72-7.72 1.47 1.35L5.41 20z\"/>\n",
              "  </svg>\n",
              "      </button>\n",
              "      \n",
              "  <style>\n",
              "    .colab-df-container {\n",
              "      display:flex;\n",
              "      flex-wrap:wrap;\n",
              "      gap: 12px;\n",
              "    }\n",
              "\n",
              "    .colab-df-convert {\n",
              "      background-color: #E8F0FE;\n",
              "      border: none;\n",
              "      border-radius: 50%;\n",
              "      cursor: pointer;\n",
              "      display: none;\n",
              "      fill: #1967D2;\n",
              "      height: 32px;\n",
              "      padding: 0 0 0 0;\n",
              "      width: 32px;\n",
              "    }\n",
              "\n",
              "    .colab-df-convert:hover {\n",
              "      background-color: #E2EBFA;\n",
              "      box-shadow: 0px 1px 2px rgba(60, 64, 67, 0.3), 0px 1px 3px 1px rgba(60, 64, 67, 0.15);\n",
              "      fill: #174EA6;\n",
              "    }\n",
              "\n",
              "    [theme=dark] .colab-df-convert {\n",
              "      background-color: #3B4455;\n",
              "      fill: #D2E3FC;\n",
              "    }\n",
              "\n",
              "    [theme=dark] .colab-df-convert:hover {\n",
              "      background-color: #434B5C;\n",
              "      box-shadow: 0px 1px 3px 1px rgba(0, 0, 0, 0.15);\n",
              "      filter: drop-shadow(0px 1px 2px rgba(0, 0, 0, 0.3));\n",
              "      fill: #FFFFFF;\n",
              "    }\n",
              "  </style>\n",
              "\n",
              "      <script>\n",
              "        const buttonEl =\n",
              "          document.querySelector('#df-215fb22f-d055-4974-817f-39e67da63a18 button.colab-df-convert');\n",
              "        buttonEl.style.display =\n",
              "          google.colab.kernel.accessAllowed ? 'block' : 'none';\n",
              "\n",
              "        async function convertToInteractive(key) {\n",
              "          const element = document.querySelector('#df-215fb22f-d055-4974-817f-39e67da63a18');\n",
              "          const dataTable =\n",
              "            await google.colab.kernel.invokeFunction('convertToInteractive',\n",
              "                                                     [key], {});\n",
              "          if (!dataTable) return;\n",
              "\n",
              "          const docLinkHtml = 'Like what you see? Visit the ' +\n",
              "            '<a target=\"_blank\" href=https://colab.research.google.com/notebooks/data_table.ipynb>data table notebook</a>'\n",
              "            + ' to learn more about interactive tables.';\n",
              "          element.innerHTML = '';\n",
              "          dataTable['output_type'] = 'display_data';\n",
              "          await google.colab.output.renderOutput(dataTable, element);\n",
              "          const docLink = document.createElement('div');\n",
              "          docLink.innerHTML = docLinkHtml;\n",
              "          element.appendChild(docLink);\n",
              "        }\n",
              "      </script>\n",
              "    </div>\n",
              "  </div>\n",
              "  "
            ],
            "text/plain": [
              "   loc_id        date  time isdaytime  tempC  tempF  windspeedMiles  \\\n",
              "0       1  2019-06-01     0        no     16     61               6   \n",
              "1       1  2019-06-01   100        no     16     60               6   \n",
              "2       1  2019-06-01   200        no     15     59               5   \n",
              "3       1  2019-06-01   300        no     15     58               5   \n",
              "4       1  2019-06-01   400        no     15     59               4   \n",
              "\n",
              "   windspeedKmph  winddirdegree winddir16point  ...  HeatIndexC HeatIndexF  \\\n",
              "0             10            228             SW  ...          16         61   \n",
              "1              9            230             SW  ...          16         60   \n",
              "2              9            233             SW  ...          15         59   \n",
              "3              8            235             SW  ...          15         58   \n",
              "4              7            229             SW  ...          15         59   \n",
              "\n",
              "  DewPointC  DewPointF  WindChillC  WindChillF  WindGustMiles  WindGustKmph  \\\n",
              "0        12         54          16          61              7            12   \n",
              "1        12         53          16          60              7            11   \n",
              "2        11         53          15          59              6            10   \n",
              "3        11         52          14          58              6             9   \n",
              "4        11         52          15          59              5             8   \n",
              "\n",
              "   FeelsLikeC  FeelsLikeF  \n",
              "0          16          61  \n",
              "1          16          60  \n",
              "2          15          59  \n",
              "3          14          58  \n",
              "4          15          59  \n",
              "\n",
              "[5 rows x 31 columns]"
            ]
          },
          "metadata": {},
          "execution_count": 24
        }
      ]
    },
    {
      "cell_type": "code",
      "source": [
        "#Felesleges változók kiszűrése\n",
        "#hónap: loc_id, maxtempf (0C is ugyanezt tudja), mintempf, avgtempf, raininches (ua. mint a mm-ben adott), maxwindspeedMiles (km-ben is adott), avgwindspeedMiles, avgwindgustMiles,\n",
        "#visibilityMiles, pressureInches\n",
        "#hónap és óra hasonlóan"
      ],
      "metadata": {
        "id": "Bfu5qzjVE3Qw"
      },
      "execution_count": 10,
      "outputs": []
    },
    {
      "cell_type": "code",
      "source": [
        "hodf=ho.copy()"
      ],
      "metadata": {
        "id": "pmTragfkgLpp"
      },
      "execution_count": 22,
      "outputs": []
    },
    {
      "cell_type": "code",
      "source": [
        "dobhato=['loc_id', 'year', 'month', 'maxtempF', 'mintempF', 'avgtempF', 'rainInches', 'maxwindspeedMiles', 'avgwindspeedMiles', 'avgwindgustMiles', 'visibilityMiles', 'pressureInches']\n",
        "hodf=hodf.drop(dobhato, axis=1)\n",
        "hodf.head()"
      ],
      "metadata": {
        "id": "y2tNXeAIHflm"
      },
      "execution_count": null,
      "outputs": []
    },
    {
      "cell_type": "code",
      "source": [
        "oradf=ora.copy()\n",
        "dobhato2=['loc_id', 'date', 'time', 'isdaytime','weatherIconUrl','precipInches', 'tempF', 'visibilityMiles', 'pressureInches','WindChillF', 'HeatIndexF','DewPointF','WindGustMiles','FeelsLikeF']\n",
        "oradf=oradf.drop(dobhato2, axis=1)\n",
        "oradf.head()"
      ],
      "metadata": {
        "id": "nnkpQhuIH9xj"
      },
      "execution_count": null,
      "outputs": []
    },
    {
      "cell_type": "code",
      "source": [
        "#weatherDesc és winddir16point átalakítása számmá\n",
        "laberer=LabelEncoder()\n",
        "oradf.winddir16point=laberer.fit_transform(oradf.winddir16point)\n",
        "oradf.weatherDesc=laberer.fit_transform(oradf.weatherDesc)\n",
        "oradf.head()"
      ],
      "metadata": {
        "id": "IJNyA6dcMciK"
      },
      "execution_count": null,
      "outputs": []
    },
    {
      "cell_type": "code",
      "source": [
        "napdf=nap.copy()\n",
        "dobhato3=['loc_id', 'date', 'maxtempF', 'mintempF', 'avgtempF','totalprecipIn','windspeedMiles', 'weatherIconUrl', 'visibilityMiles', 'pressureInches','WindChillF', 'HeatIndexF','DewPointF','WindGustMiles','FeelsLikeF','sunrise','sunset','moonrise','moonset']\n",
        "napdf=napdf.drop(dobhato3, axis=1)\n",
        "napdf.head()"
      ],
      "metadata": {
        "colab": {
          "base_uri": "https://localhost:8080/",
          "height": 305
        },
        "id": "QEvB6CpIM73m",
        "outputId": "7267427f-07a3-457e-8a67-e01a64bcd37c"
      },
      "execution_count": 36,
      "outputs": [
        {
          "output_type": "execute_result",
          "data": {
            "text/html": [
              "\n",
              "  <div id=\"df-4fbc668f-0c64-418f-9d73-3d2b94f8714c\">\n",
              "    <div class=\"colab-df-container\">\n",
              "      <div>\n",
              "<style scoped>\n",
              "    .dataframe tbody tr th:only-of-type {\n",
              "        vertical-align: middle;\n",
              "    }\n",
              "\n",
              "    .dataframe tbody tr th {\n",
              "        vertical-align: top;\n",
              "    }\n",
              "\n",
              "    .dataframe thead th {\n",
              "        text-align: right;\n",
              "    }\n",
              "</style>\n",
              "<table border=\"1\" class=\"dataframe\">\n",
              "  <thead>\n",
              "    <tr style=\"text-align: right;\">\n",
              "      <th></th>\n",
              "      <th>maxtempC</th>\n",
              "      <th>mintempC</th>\n",
              "      <th>avgtempC</th>\n",
              "      <th>totalprecipMM</th>\n",
              "      <th>windspeedKmph</th>\n",
              "      <th>sunhour</th>\n",
              "      <th>winddirdegree</th>\n",
              "      <th>winddir16point</th>\n",
              "      <th>weatherCode</th>\n",
              "      <th>weatherDesc</th>\n",
              "      <th>humidity</th>\n",
              "      <th>visibilityKm</th>\n",
              "      <th>pressureMB</th>\n",
              "      <th>cloudcover</th>\n",
              "      <th>HeatIndexC</th>\n",
              "      <th>DewPointC</th>\n",
              "      <th>WindChillC</th>\n",
              "      <th>WindGustKmph</th>\n",
              "      <th>FeelsLikeC</th>\n",
              "    </tr>\n",
              "  </thead>\n",
              "  <tbody>\n",
              "    <tr>\n",
              "      <th>0</th>\n",
              "      <td>26</td>\n",
              "      <td>15</td>\n",
              "      <td>22</td>\n",
              "      <td>0.0</td>\n",
              "      <td>10</td>\n",
              "      <td>8.7</td>\n",
              "      <td>200</td>\n",
              "      <td>SSW</td>\n",
              "      <td>116</td>\n",
              "      <td>Partly cloudy</td>\n",
              "      <td>61</td>\n",
              "      <td>10</td>\n",
              "      <td>1020</td>\n",
              "      <td>7</td>\n",
              "      <td>21</td>\n",
              "      <td>12</td>\n",
              "      <td>21</td>\n",
              "      <td>12</td>\n",
              "      <td>21</td>\n",
              "    </tr>\n",
              "    <tr>\n",
              "      <th>1</th>\n",
              "      <td>24</td>\n",
              "      <td>17</td>\n",
              "      <td>22</td>\n",
              "      <td>0.5</td>\n",
              "      <td>19</td>\n",
              "      <td>3.3</td>\n",
              "      <td>215</td>\n",
              "      <td>SW</td>\n",
              "      <td>122</td>\n",
              "      <td>Overcast</td>\n",
              "      <td>66</td>\n",
              "      <td>9</td>\n",
              "      <td>1011</td>\n",
              "      <td>61</td>\n",
              "      <td>21</td>\n",
              "      <td>13</td>\n",
              "      <td>20</td>\n",
              "      <td>23</td>\n",
              "      <td>20</td>\n",
              "    </tr>\n",
              "    <tr>\n",
              "      <th>2</th>\n",
              "      <td>20</td>\n",
              "      <td>14</td>\n",
              "      <td>18</td>\n",
              "      <td>0.5</td>\n",
              "      <td>17</td>\n",
              "      <td>5.1</td>\n",
              "      <td>235</td>\n",
              "      <td>SW</td>\n",
              "      <td>353</td>\n",
              "      <td>Light rain shower</td>\n",
              "      <td>57</td>\n",
              "      <td>10</td>\n",
              "      <td>1012</td>\n",
              "      <td>42</td>\n",
              "      <td>17</td>\n",
              "      <td>8</td>\n",
              "      <td>16</td>\n",
              "      <td>20</td>\n",
              "      <td>16</td>\n",
              "    </tr>\n",
              "    <tr>\n",
              "      <th>3</th>\n",
              "      <td>17</td>\n",
              "      <td>14</td>\n",
              "      <td>16</td>\n",
              "      <td>10.7</td>\n",
              "      <td>12</td>\n",
              "      <td>5.1</td>\n",
              "      <td>164</td>\n",
              "      <td>SSE</td>\n",
              "      <td>353</td>\n",
              "      <td>Light rain shower</td>\n",
              "      <td>71</td>\n",
              "      <td>9</td>\n",
              "      <td>1007</td>\n",
              "      <td>54</td>\n",
              "      <td>16</td>\n",
              "      <td>10</td>\n",
              "      <td>16</td>\n",
              "      <td>14</td>\n",
              "      <td>16</td>\n",
              "    </tr>\n",
              "    <tr>\n",
              "      <th>4</th>\n",
              "      <td>19</td>\n",
              "      <td>13</td>\n",
              "      <td>17</td>\n",
              "      <td>0.1</td>\n",
              "      <td>13</td>\n",
              "      <td>6.9</td>\n",
              "      <td>236</td>\n",
              "      <td>SW</td>\n",
              "      <td>122</td>\n",
              "      <td>Overcast</td>\n",
              "      <td>64</td>\n",
              "      <td>10</td>\n",
              "      <td>1006</td>\n",
              "      <td>65</td>\n",
              "      <td>16</td>\n",
              "      <td>9</td>\n",
              "      <td>15</td>\n",
              "      <td>17</td>\n",
              "      <td>15</td>\n",
              "    </tr>\n",
              "  </tbody>\n",
              "</table>\n",
              "</div>\n",
              "      <button class=\"colab-df-convert\" onclick=\"convertToInteractive('df-4fbc668f-0c64-418f-9d73-3d2b94f8714c')\"\n",
              "              title=\"Convert this dataframe to an interactive table.\"\n",
              "              style=\"display:none;\">\n",
              "        \n",
              "  <svg xmlns=\"http://www.w3.org/2000/svg\" height=\"24px\"viewBox=\"0 0 24 24\"\n",
              "       width=\"24px\">\n",
              "    <path d=\"M0 0h24v24H0V0z\" fill=\"none\"/>\n",
              "    <path d=\"M18.56 5.44l.94 2.06.94-2.06 2.06-.94-2.06-.94-.94-2.06-.94 2.06-2.06.94zm-11 1L8.5 8.5l.94-2.06 2.06-.94-2.06-.94L8.5 2.5l-.94 2.06-2.06.94zm10 10l.94 2.06.94-2.06 2.06-.94-2.06-.94-.94-2.06-.94 2.06-2.06.94z\"/><path d=\"M17.41 7.96l-1.37-1.37c-.4-.4-.92-.59-1.43-.59-.52 0-1.04.2-1.43.59L10.3 9.45l-7.72 7.72c-.78.78-.78 2.05 0 2.83L4 21.41c.39.39.9.59 1.41.59.51 0 1.02-.2 1.41-.59l7.78-7.78 2.81-2.81c.8-.78.8-2.07 0-2.86zM5.41 20L4 18.59l7.72-7.72 1.47 1.35L5.41 20z\"/>\n",
              "  </svg>\n",
              "      </button>\n",
              "      \n",
              "  <style>\n",
              "    .colab-df-container {\n",
              "      display:flex;\n",
              "      flex-wrap:wrap;\n",
              "      gap: 12px;\n",
              "    }\n",
              "\n",
              "    .colab-df-convert {\n",
              "      background-color: #E8F0FE;\n",
              "      border: none;\n",
              "      border-radius: 50%;\n",
              "      cursor: pointer;\n",
              "      display: none;\n",
              "      fill: #1967D2;\n",
              "      height: 32px;\n",
              "      padding: 0 0 0 0;\n",
              "      width: 32px;\n",
              "    }\n",
              "\n",
              "    .colab-df-convert:hover {\n",
              "      background-color: #E2EBFA;\n",
              "      box-shadow: 0px 1px 2px rgba(60, 64, 67, 0.3), 0px 1px 3px 1px rgba(60, 64, 67, 0.15);\n",
              "      fill: #174EA6;\n",
              "    }\n",
              "\n",
              "    [theme=dark] .colab-df-convert {\n",
              "      background-color: #3B4455;\n",
              "      fill: #D2E3FC;\n",
              "    }\n",
              "\n",
              "    [theme=dark] .colab-df-convert:hover {\n",
              "      background-color: #434B5C;\n",
              "      box-shadow: 0px 1px 3px 1px rgba(0, 0, 0, 0.15);\n",
              "      filter: drop-shadow(0px 1px 2px rgba(0, 0, 0, 0.3));\n",
              "      fill: #FFFFFF;\n",
              "    }\n",
              "  </style>\n",
              "\n",
              "      <script>\n",
              "        const buttonEl =\n",
              "          document.querySelector('#df-4fbc668f-0c64-418f-9d73-3d2b94f8714c button.colab-df-convert');\n",
              "        buttonEl.style.display =\n",
              "          google.colab.kernel.accessAllowed ? 'block' : 'none';\n",
              "\n",
              "        async function convertToInteractive(key) {\n",
              "          const element = document.querySelector('#df-4fbc668f-0c64-418f-9d73-3d2b94f8714c');\n",
              "          const dataTable =\n",
              "            await google.colab.kernel.invokeFunction('convertToInteractive',\n",
              "                                                     [key], {});\n",
              "          if (!dataTable) return;\n",
              "\n",
              "          const docLinkHtml = 'Like what you see? Visit the ' +\n",
              "            '<a target=\"_blank\" href=https://colab.research.google.com/notebooks/data_table.ipynb>data table notebook</a>'\n",
              "            + ' to learn more about interactive tables.';\n",
              "          element.innerHTML = '';\n",
              "          dataTable['output_type'] = 'display_data';\n",
              "          await google.colab.output.renderOutput(dataTable, element);\n",
              "          const docLink = document.createElement('div');\n",
              "          docLink.innerHTML = docLinkHtml;\n",
              "          element.appendChild(docLink);\n",
              "        }\n",
              "      </script>\n",
              "    </div>\n",
              "  </div>\n",
              "  "
            ],
            "text/plain": [
              "   maxtempC  mintempC  avgtempC  totalprecipMM  windspeedKmph  sunhour  \\\n",
              "0        26        15        22            0.0             10      8.7   \n",
              "1        24        17        22            0.5             19      3.3   \n",
              "2        20        14        18            0.5             17      5.1   \n",
              "3        17        14        16           10.7             12      5.1   \n",
              "4        19        13        17            0.1             13      6.9   \n",
              "\n",
              "   winddirdegree winddir16point  weatherCode        weatherDesc  humidity  \\\n",
              "0            200            SSW          116      Partly cloudy        61   \n",
              "1            215             SW          122           Overcast        66   \n",
              "2            235             SW          353  Light rain shower        57   \n",
              "3            164            SSE          353  Light rain shower        71   \n",
              "4            236             SW          122           Overcast        64   \n",
              "\n",
              "   visibilityKm  pressureMB  cloudcover  HeatIndexC  DewPointC  WindChillC  \\\n",
              "0            10        1020           7          21         12          21   \n",
              "1             9        1011          61          21         13          20   \n",
              "2            10        1012          42          17          8          16   \n",
              "3             9        1007          54          16         10          16   \n",
              "4            10        1006          65          16          9          15   \n",
              "\n",
              "   WindGustKmph  FeelsLikeC  \n",
              "0            12          21  \n",
              "1            23          20  \n",
              "2            20          16  \n",
              "3            14          16  \n",
              "4            17          15  "
            ]
          },
          "metadata": {},
          "execution_count": 36
        }
      ]
    },
    {
      "cell_type": "code",
      "source": [
        "#weatherDesc és winddir16point átalakítása számmá\n",
        "laberer=LabelEncoder()\n",
        "napdf.winddir16point=laberer.fit_transform(napdf.winddir16point)\n",
        "napdf.weatherDesc=laberer.fit_transform(napdf.weatherDesc)\n",
        "napdf.head()"
      ],
      "metadata": {
        "colab": {
          "base_uri": "https://localhost:8080/",
          "height": 270
        },
        "id": "GMiZ5c1iOOCz",
        "outputId": "9e4d7b1b-08ef-4bf9-dc87-6954301b7619"
      },
      "execution_count": 37,
      "outputs": [
        {
          "output_type": "execute_result",
          "data": {
            "text/html": [
              "\n",
              "  <div id=\"df-7cfbc8a9-4080-4dbf-958e-0ea7a2f93992\">\n",
              "    <div class=\"colab-df-container\">\n",
              "      <div>\n",
              "<style scoped>\n",
              "    .dataframe tbody tr th:only-of-type {\n",
              "        vertical-align: middle;\n",
              "    }\n",
              "\n",
              "    .dataframe tbody tr th {\n",
              "        vertical-align: top;\n",
              "    }\n",
              "\n",
              "    .dataframe thead th {\n",
              "        text-align: right;\n",
              "    }\n",
              "</style>\n",
              "<table border=\"1\" class=\"dataframe\">\n",
              "  <thead>\n",
              "    <tr style=\"text-align: right;\">\n",
              "      <th></th>\n",
              "      <th>maxtempC</th>\n",
              "      <th>mintempC</th>\n",
              "      <th>avgtempC</th>\n",
              "      <th>totalprecipMM</th>\n",
              "      <th>windspeedKmph</th>\n",
              "      <th>sunhour</th>\n",
              "      <th>winddirdegree</th>\n",
              "      <th>winddir16point</th>\n",
              "      <th>weatherCode</th>\n",
              "      <th>weatherDesc</th>\n",
              "      <th>humidity</th>\n",
              "      <th>visibilityKm</th>\n",
              "      <th>pressureMB</th>\n",
              "      <th>cloudcover</th>\n",
              "      <th>HeatIndexC</th>\n",
              "      <th>DewPointC</th>\n",
              "      <th>WindChillC</th>\n",
              "      <th>WindGustKmph</th>\n",
              "      <th>FeelsLikeC</th>\n",
              "    </tr>\n",
              "  </thead>\n",
              "  <tbody>\n",
              "    <tr>\n",
              "      <th>0</th>\n",
              "      <td>26</td>\n",
              "      <td>15</td>\n",
              "      <td>22</td>\n",
              "      <td>0.0</td>\n",
              "      <td>10</td>\n",
              "      <td>8.7</td>\n",
              "      <td>200</td>\n",
              "      <td>11</td>\n",
              "      <td>116</td>\n",
              "      <td>7</td>\n",
              "      <td>61</td>\n",
              "      <td>10</td>\n",
              "      <td>1020</td>\n",
              "      <td>7</td>\n",
              "      <td>21</td>\n",
              "      <td>12</td>\n",
              "      <td>21</td>\n",
              "      <td>12</td>\n",
              "      <td>21</td>\n",
              "    </tr>\n",
              "    <tr>\n",
              "      <th>1</th>\n",
              "      <td>24</td>\n",
              "      <td>17</td>\n",
              "      <td>22</td>\n",
              "      <td>0.5</td>\n",
              "      <td>19</td>\n",
              "      <td>3.3</td>\n",
              "      <td>215</td>\n",
              "      <td>12</td>\n",
              "      <td>122</td>\n",
              "      <td>6</td>\n",
              "      <td>66</td>\n",
              "      <td>9</td>\n",
              "      <td>1011</td>\n",
              "      <td>61</td>\n",
              "      <td>21</td>\n",
              "      <td>13</td>\n",
              "      <td>20</td>\n",
              "      <td>23</td>\n",
              "      <td>20</td>\n",
              "    </tr>\n",
              "    <tr>\n",
              "      <th>2</th>\n",
              "      <td>20</td>\n",
              "      <td>14</td>\n",
              "      <td>18</td>\n",
              "      <td>0.5</td>\n",
              "      <td>17</td>\n",
              "      <td>5.1</td>\n",
              "      <td>235</td>\n",
              "      <td>12</td>\n",
              "      <td>353</td>\n",
              "      <td>2</td>\n",
              "      <td>57</td>\n",
              "      <td>10</td>\n",
              "      <td>1012</td>\n",
              "      <td>42</td>\n",
              "      <td>17</td>\n",
              "      <td>8</td>\n",
              "      <td>16</td>\n",
              "      <td>20</td>\n",
              "      <td>16</td>\n",
              "    </tr>\n",
              "    <tr>\n",
              "      <th>3</th>\n",
              "      <td>17</td>\n",
              "      <td>14</td>\n",
              "      <td>16</td>\n",
              "      <td>10.7</td>\n",
              "      <td>12</td>\n",
              "      <td>5.1</td>\n",
              "      <td>164</td>\n",
              "      <td>10</td>\n",
              "      <td>353</td>\n",
              "      <td>2</td>\n",
              "      <td>71</td>\n",
              "      <td>9</td>\n",
              "      <td>1007</td>\n",
              "      <td>54</td>\n",
              "      <td>16</td>\n",
              "      <td>10</td>\n",
              "      <td>16</td>\n",
              "      <td>14</td>\n",
              "      <td>16</td>\n",
              "    </tr>\n",
              "    <tr>\n",
              "      <th>4</th>\n",
              "      <td>19</td>\n",
              "      <td>13</td>\n",
              "      <td>17</td>\n",
              "      <td>0.1</td>\n",
              "      <td>13</td>\n",
              "      <td>6.9</td>\n",
              "      <td>236</td>\n",
              "      <td>12</td>\n",
              "      <td>122</td>\n",
              "      <td>6</td>\n",
              "      <td>64</td>\n",
              "      <td>10</td>\n",
              "      <td>1006</td>\n",
              "      <td>65</td>\n",
              "      <td>16</td>\n",
              "      <td>9</td>\n",
              "      <td>15</td>\n",
              "      <td>17</td>\n",
              "      <td>15</td>\n",
              "    </tr>\n",
              "  </tbody>\n",
              "</table>\n",
              "</div>\n",
              "      <button class=\"colab-df-convert\" onclick=\"convertToInteractive('df-7cfbc8a9-4080-4dbf-958e-0ea7a2f93992')\"\n",
              "              title=\"Convert this dataframe to an interactive table.\"\n",
              "              style=\"display:none;\">\n",
              "        \n",
              "  <svg xmlns=\"http://www.w3.org/2000/svg\" height=\"24px\"viewBox=\"0 0 24 24\"\n",
              "       width=\"24px\">\n",
              "    <path d=\"M0 0h24v24H0V0z\" fill=\"none\"/>\n",
              "    <path d=\"M18.56 5.44l.94 2.06.94-2.06 2.06-.94-2.06-.94-.94-2.06-.94 2.06-2.06.94zm-11 1L8.5 8.5l.94-2.06 2.06-.94-2.06-.94L8.5 2.5l-.94 2.06-2.06.94zm10 10l.94 2.06.94-2.06 2.06-.94-2.06-.94-.94-2.06-.94 2.06-2.06.94z\"/><path d=\"M17.41 7.96l-1.37-1.37c-.4-.4-.92-.59-1.43-.59-.52 0-1.04.2-1.43.59L10.3 9.45l-7.72 7.72c-.78.78-.78 2.05 0 2.83L4 21.41c.39.39.9.59 1.41.59.51 0 1.02-.2 1.41-.59l7.78-7.78 2.81-2.81c.8-.78.8-2.07 0-2.86zM5.41 20L4 18.59l7.72-7.72 1.47 1.35L5.41 20z\"/>\n",
              "  </svg>\n",
              "      </button>\n",
              "      \n",
              "  <style>\n",
              "    .colab-df-container {\n",
              "      display:flex;\n",
              "      flex-wrap:wrap;\n",
              "      gap: 12px;\n",
              "    }\n",
              "\n",
              "    .colab-df-convert {\n",
              "      background-color: #E8F0FE;\n",
              "      border: none;\n",
              "      border-radius: 50%;\n",
              "      cursor: pointer;\n",
              "      display: none;\n",
              "      fill: #1967D2;\n",
              "      height: 32px;\n",
              "      padding: 0 0 0 0;\n",
              "      width: 32px;\n",
              "    }\n",
              "\n",
              "    .colab-df-convert:hover {\n",
              "      background-color: #E2EBFA;\n",
              "      box-shadow: 0px 1px 2px rgba(60, 64, 67, 0.3), 0px 1px 3px 1px rgba(60, 64, 67, 0.15);\n",
              "      fill: #174EA6;\n",
              "    }\n",
              "\n",
              "    [theme=dark] .colab-df-convert {\n",
              "      background-color: #3B4455;\n",
              "      fill: #D2E3FC;\n",
              "    }\n",
              "\n",
              "    [theme=dark] .colab-df-convert:hover {\n",
              "      background-color: #434B5C;\n",
              "      box-shadow: 0px 1px 3px 1px rgba(0, 0, 0, 0.15);\n",
              "      filter: drop-shadow(0px 1px 2px rgba(0, 0, 0, 0.3));\n",
              "      fill: #FFFFFF;\n",
              "    }\n",
              "  </style>\n",
              "\n",
              "      <script>\n",
              "        const buttonEl =\n",
              "          document.querySelector('#df-7cfbc8a9-4080-4dbf-958e-0ea7a2f93992 button.colab-df-convert');\n",
              "        buttonEl.style.display =\n",
              "          google.colab.kernel.accessAllowed ? 'block' : 'none';\n",
              "\n",
              "        async function convertToInteractive(key) {\n",
              "          const element = document.querySelector('#df-7cfbc8a9-4080-4dbf-958e-0ea7a2f93992');\n",
              "          const dataTable =\n",
              "            await google.colab.kernel.invokeFunction('convertToInteractive',\n",
              "                                                     [key], {});\n",
              "          if (!dataTable) return;\n",
              "\n",
              "          const docLinkHtml = 'Like what you see? Visit the ' +\n",
              "            '<a target=\"_blank\" href=https://colab.research.google.com/notebooks/data_table.ipynb>data table notebook</a>'\n",
              "            + ' to learn more about interactive tables.';\n",
              "          element.innerHTML = '';\n",
              "          dataTable['output_type'] = 'display_data';\n",
              "          await google.colab.output.renderOutput(dataTable, element);\n",
              "          const docLink = document.createElement('div');\n",
              "          docLink.innerHTML = docLinkHtml;\n",
              "          element.appendChild(docLink);\n",
              "        }\n",
              "      </script>\n",
              "    </div>\n",
              "  </div>\n",
              "  "
            ],
            "text/plain": [
              "   maxtempC  mintempC  avgtempC  totalprecipMM  windspeedKmph  sunhour  \\\n",
              "0        26        15        22            0.0             10      8.7   \n",
              "1        24        17        22            0.5             19      3.3   \n",
              "2        20        14        18            0.5             17      5.1   \n",
              "3        17        14        16           10.7             12      5.1   \n",
              "4        19        13        17            0.1             13      6.9   \n",
              "\n",
              "   winddirdegree  winddir16point  weatherCode  weatherDesc  humidity  \\\n",
              "0            200              11          116            7        61   \n",
              "1            215              12          122            6        66   \n",
              "2            235              12          353            2        57   \n",
              "3            164              10          353            2        71   \n",
              "4            236              12          122            6        64   \n",
              "\n",
              "   visibilityKm  pressureMB  cloudcover  HeatIndexC  DewPointC  WindChillC  \\\n",
              "0            10        1020           7          21         12          21   \n",
              "1             9        1011          61          21         13          20   \n",
              "2            10        1012          42          17          8          16   \n",
              "3             9        1007          54          16         10          16   \n",
              "4            10        1006          65          16          9          15   \n",
              "\n",
              "   WindGustKmph  FeelsLikeC  \n",
              "0            12          21  \n",
              "1            23          20  \n",
              "2            20          16  \n",
              "3            14          16  \n",
              "4            17          15  "
            ]
          },
          "metadata": {},
          "execution_count": 37
        }
      ]
    },
    {
      "cell_type": "code",
      "source": [
        "##Prediktálás\n",
        "#a probléma: mindig a következő y értéket prediktáljuk, tehát le kell vágni az y (magyarázandó változó) elejét és az x (magyarázó változók) végét\n",
        "#tehát az y elejének a levágása\n",
        "napydf=napdf['avgtempC'].copy()\n",
        "napydf=napydf.drop(napydf.index[range(1)])\n",
        "napydf.shape"
      ],
      "metadata": {
        "colab": {
          "base_uri": "https://localhost:8080/"
        },
        "id": "svAVIov_P5oy",
        "outputId": "30a075b6-b521-4176-a9af-e665858a2c77"
      },
      "execution_count": 64,
      "outputs": [
        {
          "output_type": "execute_result",
          "data": {
            "text/plain": [
              "(60,)"
            ]
          },
          "metadata": {},
          "execution_count": 64
        }
      ]
    },
    {
      "cell_type": "code",
      "source": [
        "#és a többi végéé\n",
        "napxdf=napdf.copy().drop('avgtempC',axis=1)\n",
        "napxdf=napxdf.drop(axis=0,index=(napxdf.shape[0]-1))\n",
        "napxdf.shape"
      ],
      "metadata": {
        "colab": {
          "base_uri": "https://localhost:8080/"
        },
        "id": "UjT6R0l6Rrdp",
        "outputId": "803d6b8f-6028-4115-f75c-1457e7d50d7a"
      },
      "execution_count": 62,
      "outputs": [
        {
          "output_type": "execute_result",
          "data": {
            "text/plain": [
              "(60, 18)"
            ]
          },
          "metadata": {},
          "execution_count": 62
        }
      ]
    },
    {
      "cell_type": "code",
      "source": [
        "#\n",
        "from tensorflow import keras\n",
        "x1_train, x1_test, y1_train, y1_test = train_test_split(napxdf,napydf,test_size=0.1,shuffle=True) #shuffle: összekeveri az értékeket"
      ],
      "metadata": {
        "id": "X-JLRtfiR-qp"
      },
      "execution_count": 79,
      "outputs": []
    },
    {
      "cell_type": "code",
      "source": [
        "normalizer=StandardScaler()\n",
        "normalizer.fit(x1_train)\n",
        "x1_train = normalizer.transform(x1_train)\n",
        "x1_test = normalizer.transform(x1_test)"
      ],
      "metadata": {
        "id": "wZoxguEaUunT"
      },
      "execution_count": 80,
      "outputs": []
    },
    {
      "cell_type": "code",
      "source": [
        "##Architektúra létrehozása\n",
        "from tensorflow.keras.layers import Input, Dense\n",
        "import keras\n",
        "from tensorflow.keras.utils import plot_model\n",
        "from tensorflow.keras.metrics import BinaryAccuracy\n"
      ],
      "metadata": {
        "id": "A_-qr56uVMhp"
      },
      "execution_count": 81,
      "outputs": []
    },
    {
      "cell_type": "code",
      "source": [
        "input1 = Input(shape=(x1_train.shape[1]))\n",
        "x = Dense(32, activation='relu')(input1)\n",
        "x = Dense(64, activation='relu')(x)\n",
        "output1 = Dense(1, activation='sigmoid')(x)"
      ],
      "metadata": {
        "id": "hbSU65pbVk1s"
      },
      "execution_count": 82,
      "outputs": []
    },
    {
      "cell_type": "code",
      "source": [
        "model1 = keras.Model(input1, output1)\n",
        "plot_model(model1, show_shapes=True)"
      ],
      "metadata": {
        "colab": {
          "base_uri": "https://localhost:8080/",
          "height": 422
        },
        "id": "Pjf6DoTeV7-M",
        "outputId": "9739314a-8836-4bce-bdf7-4ea6a1c39a38"
      },
      "execution_count": 83,
      "outputs": [
        {
          "output_type": "execute_result",
          "data": {
            "image/png": "[encoded data removed]",
            "text/plain": [
              "<IPython.core.display.Image object>"
            ]
          },
          "metadata": {},
          "execution_count": 83
        }
      ]
    },
    {
      "cell_type": "code",
      "source": [
        "from tensorflow.keras.callbacks import EarlyStopping\n",
        "early_stopping_callback = EarlyStopping(patience=20, restore_best_weights=True)\n",
        "model.compile(optimizer='adam',\n",
        "    loss='MSE')"
      ],
      "metadata": {
        "id": "rsL4bf6SWQ8J"
      },
      "execution_count": 87,
      "outputs": []
    },
    {
      "cell_type": "code",
      "source": [
        "model.fit(x=x1_train, y=y1_train, epochs=500, validation_split=0.1, callbacks=[early_stopping_callback] )"
      ],
      "metadata": {
        "id": "72use7lEWZqF"
      },
      "execution_count": null,
      "outputs": []
    },
    {
      "cell_type": "code",
      "source": [
        "model.evaluate(x1_test, y1_test) #elég nagy érték, de a kevés adat ezt megmagyarázza."
      ],
      "metadata": {
        "colab": {
          "base_uri": "https://localhost:8080/"
        },
        "id": "UELTrz_2W-l8",
        "outputId": "889e6381-d226-4525-ec9c-20498cc52d3b"
      },
      "execution_count": 89,
      "outputs": [
        {
          "output_type": "stream",
          "name": "stdout",
          "text": [
            "1/1 [==============================] - 0s 42ms/step - loss: 307.5017\n"
          ]
        },
        {
          "output_type": "execute_result",
          "data": {
            "text/plain": [
              "307.501708984375"
            ]
          },
          "metadata": {},
          "execution_count": 89
        }
      ]
    },
    {
      "cell_type": "code",
      "source": [
        "predictions1 = model.predict(x1_test[:2]) #https://www.tensorflow.org/guide/keras/train_and_evaluate\n",
        "predictions1"
      ],
      "metadata": {
        "id": "JAIrybjOX8JL"
      },
      "execution_count": null,
      "outputs": []
    },
    {
      "cell_type": "markdown",
      "source": [
        "A nagyobb pontossághoz órákon is vizsgálva:"
      ],
      "metadata": {
        "id": "Z4vgCoKtZVHF"
      }
    },
    {
      "cell_type": "code",
      "source": [
        "oraydf=oradf['tempC'].copy() #az előzőhöz hasonlóan dobjuk ki az első értéket\n",
        "oraydf=oraydf.drop(oraydf.index[range(1)])\n",
        "oraydf.shape"
      ],
      "metadata": {
        "colab": {
          "base_uri": "https://localhost:8080/"
        },
        "id": "mRtv-LzNZUm3",
        "outputId": "d9a2a036-a255-4924-af93-01b3b28367b9"
      },
      "execution_count": 98,
      "outputs": [
        {
          "output_type": "execute_result",
          "data": {
            "text/plain": [
              "(1463,)"
            ]
          },
          "metadata": {},
          "execution_count": 98
        }
      ]
    },
    {
      "cell_type": "code",
      "source": [
        "#és a többi végét\n",
        "oraxdf=oradf.copy().drop('tempC',axis=1)\n",
        "oraxdf=oraxdf.drop(axis=0,index=(oraxdf.shape[0]-1))\n",
        "oraxdf.shape"
      ],
      "metadata": {
        "colab": {
          "base_uri": "https://localhost:8080/"
        },
        "id": "5xyW40J1Z5Em",
        "outputId": "7f9a4fba-644c-41ca-bb6d-db70257341d8"
      },
      "execution_count": 100,
      "outputs": [
        {
          "output_type": "execute_result",
          "data": {
            "text/plain": [
              "(1463, 16)"
            ]
          },
          "metadata": {},
          "execution_count": 100
        }
      ]
    },
    {
      "cell_type": "code",
      "source": [
        "#\n",
        "from tensorflow import keras\n",
        "x2_train, x2_test, y2_train, y2_test = train_test_split(oraxdf,oraydf,test_size=0.1,shuffle=True) #shuffle: összekeveri az értékeket"
      ],
      "metadata": {
        "id": "aN-ekS4IaLx0"
      },
      "execution_count": 101,
      "outputs": []
    },
    {
      "cell_type": "code",
      "source": [
        "#Normalizálás\n",
        "normalizer=StandardScaler()\n",
        "normalizer.fit(x2_train)\n",
        "x2_train = normalizer.transform(x2_train)\n",
        "x2_test = normalizer.transform(x2_test)"
      ],
      "metadata": {
        "id": "wumA1QYIaUnb"
      },
      "execution_count": 102,
      "outputs": []
    },
    {
      "cell_type": "code",
      "source": [
        "##Architektúra létrehozása\n",
        "from tensorflow.keras.layers import Input, Dense\n",
        "import keras\n",
        "from tensorflow.keras.utils import plot_model\n",
        "from tensorflow.keras.metrics import BinaryAccuracy\n"
      ],
      "metadata": {
        "id": "re6vz1lvaguH"
      },
      "execution_count": 103,
      "outputs": []
    },
    {
      "cell_type": "code",
      "source": [
        "input2 = Input(shape=(x2_train.shape[1]))\n",
        "x = Dense(32, activation='relu')(input2)\n",
        "x = Dense(64, activation='relu')(x)\n",
        "output2 = Dense(1, activation='sigmoid')(x)"
      ],
      "metadata": {
        "id": "syxzF7eLahLS"
      },
      "execution_count": 104,
      "outputs": []
    },
    {
      "cell_type": "code",
      "source": [
        "model2 = keras.Model(input2, output2)\n",
        "plot_model(model2, show_shapes=True) #ez igazából fölösleges, de akkor már legyen itt"
      ],
      "metadata": {
        "id": "sTx_mKECahXq"
      },
      "execution_count": null,
      "outputs": []
    },
    {
      "cell_type": "code",
      "source": [
        "from tensorflow.keras.callbacks import EarlyStopping\n",
        "early_stopping_callback = EarlyStopping(patience=20, restore_best_weights=True)\n",
        "model2.compile(optimizer='adam',\n",
        "    loss='MSE')\n"
      ],
      "metadata": {
        "id": "Rum73SlIawNs"
      },
      "execution_count": 108,
      "outputs": []
    },
    {
      "cell_type": "code",
      "source": [
        "model2.fit(x=x2_train, y=y2_train, epochs=500, validation_split=0.1, callbacks=[early_stopping_callback] )"
      ],
      "metadata": {
        "colab": {
          "base_uri": "https://localhost:8080/"
        },
        "id": "D7m2wl39a5sR",
        "outputId": "a1ea0265-bd5e-405c-a467-83c86909197d"
      },
      "execution_count": 109,
      "outputs": [
        {
          "output_type": "stream",
          "name": "stdout",
          "text": [
            "Epoch 1/500\n",
            "37/37 [==============================] - 1s 13ms/step - loss: 346.5475 - val_loss: 334.8328\n",
            "Epoch 2/500\n",
            "37/37 [==============================] - 0s 5ms/step - loss: 341.5321 - val_loss: 333.7425\n",
            "Epoch 3/500\n",
            "37/37 [==============================] - 0s 5ms/step - loss: 341.0946 - val_loss: 333.5959\n",
            "Epoch 4/500\n",
            "37/37 [==============================] - 0s 5ms/step - loss: 341.0120 - val_loss: 333.5453\n",
            "Epoch 5/500\n",
            "37/37 [==============================] - 0s 5ms/step - loss: 340.9792 - val_loss: 333.5219\n",
            "Epoch 6/500\n",
            "37/37 [==============================] - 0s 6ms/step - loss: 340.9627 - val_loss: 333.5089\n",
            "Epoch 7/500\n",
            "37/37 [==============================] - 0s 6ms/step - loss: 340.9532 - val_loss: 333.5010\n",
            "Epoch 8/500\n",
            "37/37 [==============================] - 0s 5ms/step - loss: 340.9473 - val_loss: 333.4956\n",
            "Epoch 9/500\n",
            "37/37 [==============================] - 0s 5ms/step - loss: 340.9433 - val_loss: 333.4919\n",
            "Epoch 10/500\n",
            "37/37 [==============================] - 0s 5ms/step - loss: 340.9404 - val_loss: 333.4893\n",
            "Epoch 11/500\n",
            "37/37 [==============================] - 0s 5ms/step - loss: 340.9383 - val_loss: 333.4874\n",
            "Epoch 12/500\n",
            "37/37 [==============================] - 0s 6ms/step - loss: 340.9369 - val_loss: 333.4858\n",
            "Epoch 13/500\n",
            "37/37 [==============================] - 0s 7ms/step - loss: 340.9357 - val_loss: 333.4846\n",
            "Epoch 14/500\n",
            "37/37 [==============================] - 0s 8ms/step - loss: 340.9347 - val_loss: 333.4837\n",
            "Epoch 15/500\n",
            "37/37 [==============================] - 0s 7ms/step - loss: 340.9340 - val_loss: 333.4828\n",
            "Epoch 16/500\n",
            "37/37 [==============================] - 0s 5ms/step - loss: 340.9333 - val_loss: 333.4822\n",
            "Epoch 17/500\n",
            "37/37 [==============================] - 0s 5ms/step - loss: 340.9328 - val_loss: 333.4817\n",
            "Epoch 18/500\n",
            "37/37 [==============================] - 0s 5ms/step - loss: 340.9324 - val_loss: 333.4812\n",
            "Epoch 19/500\n",
            "37/37 [==============================] - 0s 6ms/step - loss: 340.9321 - val_loss: 333.4808\n",
            "Epoch 20/500\n",
            "37/37 [==============================] - 0s 4ms/step - loss: 340.9318 - val_loss: 333.4805\n",
            "Epoch 21/500\n",
            "37/37 [==============================] - 0s 5ms/step - loss: 340.9315 - val_loss: 333.4802\n",
            "Epoch 22/500\n",
            "37/37 [==============================] - 0s 5ms/step - loss: 340.9312 - val_loss: 333.4800\n",
            "Epoch 23/500\n",
            "37/37 [==============================] - 0s 6ms/step - loss: 340.9311 - val_loss: 333.4797\n",
            "Epoch 24/500\n",
            "37/37 [==============================] - 0s 5ms/step - loss: 340.9310 - val_loss: 333.4795\n",
            "Epoch 25/500\n",
            "37/37 [==============================] - 0s 5ms/step - loss: 340.9308 - val_loss: 333.4793\n",
            "Epoch 26/500\n",
            "37/37 [==============================] - 0s 5ms/step - loss: 340.9306 - val_loss: 333.4792\n",
            "Epoch 27/500\n",
            "37/37 [==============================] - 0s 7ms/step - loss: 340.9305 - val_loss: 333.4791\n",
            "Epoch 28/500\n",
            "37/37 [==============================] - 0s 7ms/step - loss: 340.9304 - val_loss: 333.4789\n",
            "Epoch 29/500\n",
            "37/37 [==============================] - 0s 7ms/step - loss: 340.9302 - val_loss: 333.4788\n",
            "Epoch 30/500\n",
            "37/37 [==============================] - 0s 7ms/step - loss: 340.9303 - val_loss: 333.4787\n",
            "Epoch 31/500\n",
            "37/37 [==============================] - 0s 5ms/step - loss: 340.9301 - val_loss: 333.4786\n",
            "Epoch 32/500\n",
            "37/37 [==============================] - 0s 8ms/step - loss: 340.9301 - val_loss: 333.4786\n",
            "Epoch 33/500\n",
            "37/37 [==============================] - 0s 5ms/step - loss: 340.9300 - val_loss: 333.4785\n",
            "Epoch 34/500\n",
            "37/37 [==============================] - 0s 6ms/step - loss: 340.9300 - val_loss: 333.4784\n",
            "Epoch 35/500\n",
            "37/37 [==============================] - 0s 6ms/step - loss: 340.9299 - val_loss: 333.4784\n",
            "Epoch 36/500\n",
            "37/37 [==============================] - 0s 5ms/step - loss: 340.9298 - val_loss: 333.4782\n",
            "Epoch 37/500\n",
            "37/37 [==============================] - 0s 5ms/step - loss: 340.9298 - val_loss: 333.4782\n",
            "Epoch 38/500\n",
            "37/37 [==============================] - 0s 5ms/step - loss: 340.9298 - val_loss: 333.4781\n",
            "Epoch 39/500\n",
            "37/37 [==============================] - 0s 5ms/step - loss: 340.9298 - val_loss: 333.4781\n",
            "Epoch 40/500\n",
            "37/37 [==============================] - 0s 5ms/step - loss: 340.9297 - val_loss: 333.4781\n",
            "Epoch 41/500\n",
            "37/37 [==============================] - 0s 5ms/step - loss: 340.9296 - val_loss: 333.4780\n",
            "Epoch 42/500\n",
            "37/37 [==============================] - 0s 5ms/step - loss: 340.9296 - val_loss: 333.4780\n",
            "Epoch 43/500\n",
            "37/37 [==============================] - 0s 6ms/step - loss: 340.9295 - val_loss: 333.4780\n",
            "Epoch 44/500\n",
            "37/37 [==============================] - 0s 7ms/step - loss: 340.9294 - val_loss: 333.4780\n",
            "Epoch 45/500\n",
            "37/37 [==============================] - 0s 5ms/step - loss: 340.9295 - val_loss: 333.4779\n",
            "Epoch 46/500\n",
            "37/37 [==============================] - 0s 7ms/step - loss: 340.9295 - val_loss: 333.4779\n",
            "Epoch 47/500\n",
            "37/37 [==============================] - 0s 12ms/step - loss: 340.9294 - val_loss: 333.4778\n",
            "Epoch 48/500\n",
            "37/37 [==============================] - 0s 9ms/step - loss: 340.9294 - val_loss: 333.4778\n",
            "Epoch 49/500\n",
            "37/37 [==============================] - 0s 3ms/step - loss: 340.9294 - val_loss: 333.4778\n",
            "Epoch 50/500\n",
            "37/37 [==============================] - 0s 3ms/step - loss: 340.9294 - val_loss: 333.4778\n",
            "Epoch 51/500\n",
            "37/37 [==============================] - 0s 3ms/step - loss: 340.9293 - val_loss: 333.4778\n",
            "Epoch 52/500\n",
            "37/37 [==============================] - 0s 3ms/step - loss: 340.9293 - val_loss: 333.4777\n",
            "Epoch 53/500\n",
            "37/37 [==============================] - 0s 3ms/step - loss: 340.9293 - val_loss: 333.4777\n",
            "Epoch 54/500\n",
            "37/37 [==============================] - 0s 3ms/step - loss: 340.9293 - val_loss: 333.4777\n",
            "Epoch 55/500\n",
            "37/37 [==============================] - 0s 4ms/step - loss: 340.9293 - val_loss: 333.4777\n",
            "Epoch 56/500\n",
            "37/37 [==============================] - 0s 3ms/step - loss: 340.9292 - val_loss: 333.4777\n",
            "Epoch 57/500\n",
            "37/37 [==============================] - 0s 3ms/step - loss: 340.9293 - val_loss: 333.4776\n",
            "Epoch 58/500\n",
            "37/37 [==============================] - 0s 3ms/step - loss: 340.9292 - val_loss: 333.4776\n",
            "Epoch 59/500\n",
            "37/37 [==============================] - 0s 3ms/step - loss: 340.9292 - val_loss: 333.4776\n",
            "Epoch 60/500\n",
            "37/37 [==============================] - 0s 3ms/step - loss: 340.9292 - val_loss: 333.4776\n",
            "Epoch 61/500\n",
            "37/37 [==============================] - 0s 3ms/step - loss: 340.9292 - val_loss: 333.4776\n",
            "Epoch 62/500\n",
            "37/37 [==============================] - 0s 3ms/step - loss: 340.9292 - val_loss: 333.4776\n",
            "Epoch 63/500\n",
            "37/37 [==============================] - 0s 3ms/step - loss: 340.9292 - val_loss: 333.4775\n",
            "Epoch 64/500\n",
            "37/37 [==============================] - 0s 3ms/step - loss: 340.9292 - val_loss: 333.4775\n",
            "Epoch 65/500\n",
            "37/37 [==============================] - 0s 3ms/step - loss: 340.9291 - val_loss: 333.4775\n",
            "Epoch 66/500\n",
            "37/37 [==============================] - 0s 4ms/step - loss: 340.9292 - val_loss: 333.4775\n",
            "Epoch 67/500\n",
            "37/37 [==============================] - 0s 3ms/step - loss: 340.9292 - val_loss: 333.4775\n",
            "Epoch 68/500\n",
            "37/37 [==============================] - 0s 3ms/step - loss: 340.9292 - val_loss: 333.4775\n",
            "Epoch 69/500\n",
            "37/37 [==============================] - 0s 3ms/step - loss: 340.9291 - val_loss: 333.4775\n",
            "Epoch 70/500\n",
            "37/37 [==============================] - 0s 4ms/step - loss: 340.9291 - val_loss: 333.4775\n",
            "Epoch 71/500\n",
            "37/37 [==============================] - 0s 4ms/step - loss: 340.9291 - val_loss: 333.4775\n",
            "Epoch 72/500\n",
            "37/37 [==============================] - 0s 3ms/step - loss: 340.9291 - val_loss: 333.4775\n",
            "Epoch 73/500\n",
            "37/37 [==============================] - 0s 4ms/step - loss: 340.9291 - val_loss: 333.4775\n",
            "Epoch 74/500\n",
            "37/37 [==============================] - 0s 4ms/step - loss: 340.9291 - val_loss: 333.4775\n",
            "Epoch 75/500\n",
            "37/37 [==============================] - 0s 4ms/step - loss: 340.9291 - val_loss: 333.4774\n",
            "Epoch 76/500\n",
            "37/37 [==============================] - 0s 4ms/step - loss: 340.9291 - val_loss: 333.4774\n",
            "Epoch 77/500\n",
            "37/37 [==============================] - 0s 3ms/step - loss: 340.9291 - val_loss: 333.4774\n",
            "Epoch 78/500\n",
            "37/37 [==============================] - 0s 4ms/step - loss: 340.9291 - val_loss: 333.4774\n",
            "Epoch 79/500\n",
            "37/37 [==============================] - 0s 3ms/step - loss: 340.9291 - val_loss: 333.4774\n",
            "Epoch 80/500\n",
            "37/37 [==============================] - 0s 3ms/step - loss: 340.9291 - val_loss: 333.4774\n",
            "Epoch 81/500\n",
            "37/37 [==============================] - 0s 3ms/step - loss: 340.9291 - val_loss: 333.4774\n",
            "Epoch 82/500\n",
            "37/37 [==============================] - 0s 3ms/step - loss: 340.9291 - val_loss: 333.4774\n",
            "Epoch 83/500\n",
            "37/37 [==============================] - 0s 3ms/step - loss: 340.9291 - val_loss: 333.4774\n",
            "Epoch 84/500\n",
            "37/37 [==============================] - 0s 4ms/step - loss: 340.9291 - val_loss: 333.4774\n",
            "Epoch 85/500\n",
            "37/37 [==============================] - 0s 3ms/step - loss: 340.9291 - val_loss: 333.4774\n",
            "Epoch 86/500\n",
            "37/37 [==============================] - 0s 3ms/step - loss: 340.9291 - val_loss: 333.4774\n",
            "Epoch 87/500\n",
            "37/37 [==============================] - 0s 3ms/step - loss: 340.9291 - val_loss: 333.4774\n",
            "Epoch 88/500\n",
            "37/37 [==============================] - 0s 3ms/step - loss: 340.9291 - val_loss: 333.4774\n",
            "Epoch 89/500\n",
            "37/37 [==============================] - 0s 3ms/step - loss: 340.9291 - val_loss: 333.4774\n",
            "Epoch 90/500\n",
            "37/37 [==============================] - 0s 3ms/step - loss: 340.9291 - val_loss: 333.4774\n",
            "Epoch 91/500\n",
            "37/37 [==============================] - 0s 3ms/step - loss: 340.9291 - val_loss: 333.4774\n",
            "Epoch 92/500\n",
            "37/37 [==============================] - 0s 3ms/step - loss: 340.9291 - val_loss: 333.4774\n",
            "Epoch 93/500\n",
            "37/37 [==============================] - 0s 4ms/step - loss: 340.9290 - val_loss: 333.4774\n",
            "Epoch 94/500\n",
            "37/37 [==============================] - 0s 5ms/step - loss: 340.9291 - val_loss: 333.4774\n",
            "Epoch 95/500\n",
            "37/37 [==============================] - 0s 4ms/step - loss: 340.9291 - val_loss: 333.4774\n",
            "Epoch 96/500\n",
            "37/37 [==============================] - 0s 3ms/step - loss: 340.9291 - val_loss: 333.4774\n",
            "Epoch 97/500\n",
            "37/37 [==============================] - 0s 4ms/step - loss: 340.9291 - val_loss: 333.4774\n",
            "Epoch 98/500\n",
            "37/37 [==============================] - 0s 3ms/step - loss: 340.9291 - val_loss: 333.4774\n",
            "Epoch 99/500\n",
            "37/37 [==============================] - 0s 3ms/step - loss: 340.9291 - val_loss: 333.4774\n",
            "Epoch 100/500\n",
            "37/37 [==============================] - 0s 3ms/step - loss: 340.9291 - val_loss: 333.4774\n",
            "Epoch 101/500\n",
            "37/37 [==============================] - 0s 3ms/step - loss: 340.9291 - val_loss: 333.4774\n",
            "Epoch 102/500\n",
            "37/37 [==============================] - 0s 3ms/step - loss: 340.9290 - val_loss: 333.4774\n",
            "Epoch 103/500\n",
            "37/37 [==============================] - 0s 3ms/step - loss: 340.9291 - val_loss: 333.4774\n",
            "Epoch 104/500\n",
            "37/37 [==============================] - 0s 3ms/step - loss: 340.9290 - val_loss: 333.4774\n",
            "Epoch 105/500\n",
            "37/37 [==============================] - 0s 3ms/step - loss: 340.9291 - val_loss: 333.4774\n",
            "Epoch 106/500\n",
            "37/37 [==============================] - 0s 3ms/step - loss: 340.9291 - val_loss: 333.4774\n",
            "Epoch 107/500\n",
            "37/37 [==============================] - 0s 3ms/step - loss: 340.9291 - val_loss: 333.4774\n",
            "Epoch 108/500\n",
            "37/37 [==============================] - 0s 3ms/step - loss: 340.9291 - val_loss: 333.4773\n",
            "Epoch 109/500\n",
            "37/37 [==============================] - 0s 3ms/step - loss: 340.9290 - val_loss: 333.4773\n",
            "Epoch 110/500\n",
            "37/37 [==============================] - 0s 3ms/step - loss: 340.9290 - val_loss: 333.4773\n",
            "Epoch 111/500\n",
            "37/37 [==============================] - 0s 3ms/step - loss: 340.9290 - val_loss: 333.4773\n",
            "Epoch 112/500\n",
            "37/37 [==============================] - 0s 3ms/step - loss: 340.9290 - val_loss: 333.4773\n",
            "Epoch 113/500\n",
            "37/37 [==============================] - 0s 3ms/step - loss: 340.9291 - val_loss: 333.4773\n",
            "Epoch 114/500\n",
            "37/37 [==============================] - 0s 3ms/step - loss: 340.9290 - val_loss: 333.4773\n",
            "Epoch 115/500\n",
            "37/37 [==============================] - 0s 3ms/step - loss: 340.9290 - val_loss: 333.4773\n",
            "Epoch 116/500\n",
            "37/37 [==============================] - 0s 3ms/step - loss: 340.9291 - val_loss: 333.4773\n",
            "Epoch 117/500\n",
            "37/37 [==============================] - 0s 3ms/step - loss: 340.9290 - val_loss: 333.4773\n",
            "Epoch 118/500\n",
            "37/37 [==============================] - 0s 3ms/step - loss: 340.9290 - val_loss: 333.4773\n",
            "Epoch 119/500\n",
            "37/37 [==============================] - 0s 3ms/step - loss: 340.9290 - val_loss: 333.4773\n",
            "Epoch 120/500\n",
            "37/37 [==============================] - 0s 3ms/step - loss: 340.9290 - val_loss: 333.4773\n",
            "Epoch 121/500\n",
            "37/37 [==============================] - 0s 4ms/step - loss: 340.9290 - val_loss: 333.4773\n",
            "Epoch 122/500\n",
            "37/37 [==============================] - 0s 4ms/step - loss: 340.9290 - val_loss: 333.4773\n",
            "Epoch 123/500\n",
            "37/37 [==============================] - 0s 3ms/step - loss: 340.9290 - val_loss: 333.4773\n",
            "Epoch 124/500\n",
            "37/37 [==============================] - 0s 3ms/step - loss: 340.9290 - val_loss: 333.4773\n",
            "Epoch 125/500\n",
            "37/37 [==============================] - 0s 3ms/step - loss: 340.9290 - val_loss: 333.4773\n",
            "Epoch 126/500\n",
            "37/37 [==============================] - 0s 3ms/step - loss: 340.9290 - val_loss: 333.4773\n",
            "Epoch 127/500\n",
            "37/37 [==============================] - 0s 3ms/step - loss: 340.9290 - val_loss: 333.4773\n",
            "Epoch 128/500\n",
            "37/37 [==============================] - 0s 3ms/step - loss: 340.9290 - val_loss: 333.4773\n",
            "Epoch 129/500\n",
            "37/37 [==============================] - 0s 3ms/step - loss: 340.9290 - val_loss: 333.4773\n",
            "Epoch 130/500\n",
            "37/37 [==============================] - 0s 3ms/step - loss: 340.9290 - val_loss: 333.4773\n",
            "Epoch 131/500\n",
            "37/37 [==============================] - 0s 3ms/step - loss: 340.9290 - val_loss: 333.4773\n",
            "Epoch 132/500\n",
            "37/37 [==============================] - 0s 4ms/step - loss: 340.9290 - val_loss: 333.4773\n"
          ]
        },
        {
          "output_type": "execute_result",
          "data": {
            "text/plain": [
              "<keras.callbacks.History at 0x7f4aa8dffdd0>"
            ]
          },
          "metadata": {},
          "execution_count": 109
        }
      ]
    },
    {
      "cell_type": "code",
      "source": [
        "model2.evaluate(x2_test, y2_test)"
      ],
      "metadata": {
        "colab": {
          "base_uri": "https://localhost:8080/"
        },
        "id": "UlYrH4Lha53N",
        "outputId": "ad7d9f6d-9922-4af7-c262-c44d89abe2e1"
      },
      "execution_count": 110,
      "outputs": [
        {
          "output_type": "stream",
          "name": "stdout",
          "text": [
            "5/5 [==============================] - 0s 3ms/step - loss: 342.9660\n"
          ]
        },
        {
          "output_type": "execute_result",
          "data": {
            "text/plain": [
              "342.9659729003906"
            ]
          },
          "metadata": {},
          "execution_count": 110
        }
      ]
    }
  ]
}