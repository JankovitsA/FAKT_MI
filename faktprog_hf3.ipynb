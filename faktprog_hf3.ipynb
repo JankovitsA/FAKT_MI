{
  "nbformat": 4,
  "nbformat_minor": 0,
  "metadata": {
    "colab": {
      "name": "faktprog_hf3.ipynb",
      "provenance": [],
      "authorship_tag": "ABX9TyME6GTyzuPTgRp/eCqH4Nc8",
      "include_colab_link": true
    },
    "kernelspec": {
      "name": "python3",
      "display_name": "Python 3"
    },
    "language_info": {
      "name": "python"
    }
  },
  "cells": [
    {
      "cell_type": "markdown",
      "metadata": {
        "id": "view-in-github",
        "colab_type": "text"
      },
      "source": [
        "<a href=\"https://colab.research.google.com/github/JankovitsA/FAKT_MI/blob/main/faktprog_hf3.ipynb\" target=\"_parent\"><img src=\"https://colab.research.google.com/assets/colab-badge.svg\" alt=\"Open In Colab\"/></a>"
      ]
    },
    {
      "cell_type": "code",
      "execution_count": 2,
      "metadata": {
        "id": "NF98RNpTfXOT"
      },
      "outputs": [],
      "source": [
        "import numpy as np\n",
        "import pandas as pd\n",
        "from tensorflow import keras\n",
        "from sklearn.preprocessing import LabelEncoder, StandardScaler\n",
        "from sklearn.model_selection import train_test_split\n",
        "\n"
      ]
    },
    {
      "cell_type": "code",
      "source": [
        "from google.colab import drive\n",
        "drive.mount('/content/drive')\n"
      ],
      "metadata": {
        "colab": {
          "base_uri": "https://localhost:8080/"
        },
        "id": "r16Eca2LfoNE",
        "outputId": "630222fb-8b34-46b4-8d33-adc77966cdfb"
      },
      "execution_count": 4,
      "outputs": [
        {
          "output_type": "stream",
          "name": "stdout",
          "text": [
            "Mounted at /content/drive\n"
          ]
        }
      ]
    },
    {
      "cell_type": "code",
      "source": [
        "ho = pd.read_csv('/content/drive/My Drive/progfakt/sample_data/yearly_monthly_averages.csv') #Szülővárosom, Pécs adatait kértem le, mert szívemnek igencsak kedves\n",
        "nap=pd.read_csv('/content/drive/My Drive/progfakt/sample_data/weather_data_24hr.csv')\n",
        "ora=pd.read_csv('/content/drive/My Drive/progfakt/sample_data/weather_data_1hr.csv')\n"
      ],
      "metadata": {
        "id": "eDnB3mS1EcHZ"
      },
      "execution_count": 6,
      "outputs": []
    },
    {
      "cell_type": "code",
      "source": [
        "#ho.head\n",
        "#nap.head\n",
        "ora.head"
      ],
      "metadata": {
        "colab": {
          "base_uri": "https://localhost:8080/"
        },
        "id": "bMRDT2nEgJDR",
        "outputId": "d76ef00d-4823-49ec-e7a6-c47c28dbd5c0"
      },
      "execution_count": 9,
      "outputs": [
        {
          "output_type": "execute_result",
          "data": {
            "text/plain": [
              "<bound method NDFrame.head of       loc_id        date  time isdaytime  tempC  tempF  windspeedMiles  \\\n",
              "0          1  2019-06-01     0        no     16     61               6   \n",
              "1          1  2019-06-01   100        no     16     60               6   \n",
              "2          1  2019-06-01   200        no     15     59               5   \n",
              "3          1  2019-06-01   300        no     15     58               5   \n",
              "4          1  2019-06-01   400        no     15     59               4   \n",
              "...      ...         ...   ...       ...    ...    ...             ...   \n",
              "1459       1  2019-07-31  1900        no     20     68              11   \n",
              "1460       1  2019-07-31  2000        no     20     67              11   \n",
              "1461       1  2019-07-31  2100        no     19     66              10   \n",
              "1462       1  2019-07-31  2200        no     18     65               9   \n",
              "1463       1  2019-07-31  2300        no     18     64               8   \n",
              "\n",
              "      windspeedKmph  winddirdegree winddir16point  ...  HeatIndexC HeatIndexF  \\\n",
              "0                10            228             SW  ...          16         61   \n",
              "1                 9            230             SW  ...          16         60   \n",
              "2                 9            233             SW  ...          15         59   \n",
              "3                 8            235             SW  ...          15         58   \n",
              "4                 7            229             SW  ...          15         59   \n",
              "...             ...            ...            ...  ...         ...        ...   \n",
              "1459             18            260              W  ...          20         68   \n",
              "1460             17            258            WSW  ...          20         67   \n",
              "1461             15            257            WSW  ...          19         66   \n",
              "1462             15            258            WSW  ...          18         65   \n",
              "1463             14            259            WSW  ...          18         64   \n",
              "\n",
              "     DewPointC  DewPointF  WindChillC  WindChillF  WindGustMiles  \\\n",
              "0           12         54          16          61              7   \n",
              "1           12         53          16          60              7   \n",
              "2           11         53          15          59              6   \n",
              "3           11         52          14          58              6   \n",
              "4           11         52          15          59              5   \n",
              "...        ...        ...         ...         ...            ...   \n",
              "1459         8         47          20          68             14   \n",
              "1460         9         48          20          67             14   \n",
              "1461        10         49          19          66             13   \n",
              "1462        10         50          18          65             12   \n",
              "1463        11         52          18          64             11   \n",
              "\n",
              "      WindGustKmph  FeelsLikeC  FeelsLikeF  \n",
              "0               12          16          61  \n",
              "1               11          16          60  \n",
              "2               10          15          59  \n",
              "3                9          14          58  \n",
              "4                8          15          59  \n",
              "...            ...         ...         ...  \n",
              "1459            23          20          68  \n",
              "1460            22          20          67  \n",
              "1461            22          19          66  \n",
              "1462            20          18          65  \n",
              "1463            18          18          64  \n",
              "\n",
              "[1464 rows x 31 columns]>"
            ]
          },
          "metadata": {},
          "execution_count": 9
        }
      ]
    },
    {
      "cell_type": "code",
      "source": [
        "#Felesleges változók kiszűrése\n",
        "#hónap: loc_id, maxtempf (0C is ugyanezt tudja), mintempf, avgtempf, raininches (ua. mint a mm-ben adott), maxwindspeedMiles (km-ben is adott), avgwindspeedMiles, avgwindgustMiles,\n",
        "#visibilityMiles, pressureInches\n",
        "#óra: \n",
        "#nap:"
      ],
      "metadata": {
        "id": "Bfu5qzjVE3Qw"
      },
      "execution_count": 10,
      "outputs": []
    },
    {
      "cell_type": "code",
      "source": [
        "hodf=ho.copy()"
      ],
      "metadata": {
        "id": "pmTragfkgLpp"
      },
      "execution_count": 19,
      "outputs": []
    },
    {
      "cell_type": "code",
      "source": [
        "dobhato=['loc_id', 'year', 'month', 'maxtempF', 'mintempF', 'avgtempF', 'rainInches', 'maxwindspeedMiles', 'avgwindspeedMiles', 'avgwindgustMiles', 'visibilityMiles', 'pressureInches']\n",
        "hodf=hodf.drop(dobhato, axis=1)\n",
        "hodf.head"
      ],
      "metadata": {
        "colab": {
          "base_uri": "https://localhost:8080/"
        },
        "id": "y2tNXeAIHflm",
        "outputId": "50c13cf3-1197-4513-8124-9c687b14a0c0"
      },
      "execution_count": 20,
      "outputs": [
        {
          "output_type": "execute_result",
          "data": {
            "text/plain": [
              "<bound method NDFrame.head of      maxtempC  mintempC  avgtempC  rainMM  rain_days  snow_cm  snow_days  \\\n",
              "0           5         0         2   20.82          8      0.2          2   \n",
              "1           6         2         4   31.20         12      3.2          5   \n",
              "2          11         3         6   17.17          8      0.1          1   \n",
              "3          15         5        10   32.18         12      0.0          0   \n",
              "4          17         8        13   19.36         10      0.0          0   \n",
              "..        ...       ...       ...     ...        ...      ...        ...   \n",
              "127        24        17        21   43.50         21      0.0          0   \n",
              "128        19        13        17  129.80         17      0.0          0   \n",
              "129        15        10        13  158.30         26      0.0          0   \n",
              "130        10         6         8  132.20         25      0.0          0   \n",
              "131         9         5         8  141.90         19      0.0          0   \n",
              "\n",
              "     maxwindspeedKmph  avgwindspeedKmph  avgwindgustKmph  visibilityKm  \\\n",
              "0                16.3              16.3             27.6             8   \n",
              "1                13.3              13.3             21.5             7   \n",
              "2                14.4              14.4             22.7             8   \n",
              "3                10.7              10.7             16.0             8   \n",
              "4                14.3              14.3             20.3             9   \n",
              "..                ...               ...              ...           ...   \n",
              "127              19.3              14.6             18.1            10   \n",
              "128              18.5              14.2             18.3            10   \n",
              "129              21.1              14.8             20.1             9   \n",
              "130              18.7              12.9             17.7             9   \n",
              "131              21.3              15.1             21.8             9   \n",
              "\n",
              "     humidity  pressureMB  cloudcover  sun_hour  sun_days  uvindex  \n",
              "0          88      1011.1          50     150.0        20        2  \n",
              "1          91      1015.1          67      85.5        14        3  \n",
              "2          83      1015.0          51     190.0        21        2  \n",
              "3          81      1013.3          46     249.0        16        3  \n",
              "4          76      1018.1          48     246.0        20        5  \n",
              "..        ...         ...         ...       ...       ...      ...  \n",
              "127        59      1014.2          45     250.0        10        5  \n",
              "128        64      1017.3          52     165.5        13        4  \n",
              "129        74      1010.9          66     129.5         5        3  \n",
              "130        78      1000.8          71     103.0         5        3  \n",
              "131        80      1009.0          56     168.5        12        2  \n",
              "\n",
              "[132 rows x 17 columns]>"
            ]
          },
          "metadata": {},
          "execution_count": 20
        }
      ]
    },
    {
      "cell_type": "code",
      "source": [
        "oradf=ora.copy()\n",
        "dobhato2=['loc_id', 'year', 'month', 'maxtempF', 'mintempF', 'avgtempF', 'rainInches', 'maxwindspeedMiles', 'avgwindspeedMiles', 'avgwindgustMiles', 'visibilityMiles', 'pressureInches']\n",
        "hodf=hodf.drop(dobhato2, axis=1)\n",
        "hodf.head"
      ],
      "metadata": {
        "id": "nnkpQhuIH9xj"
      },
      "execution_count": null,
      "outputs": []
    }
  ]
}